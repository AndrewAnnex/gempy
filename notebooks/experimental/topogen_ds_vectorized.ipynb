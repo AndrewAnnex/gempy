{
 "cells": [
  {
   "cell_type": "markdown",
   "metadata": {},
   "source": [
    "# Vectorized Diamond-Square algorihm\n",
    "\n",
    "From Wikipedia https://en.wikipedia.org/wiki/Diamond-square_algorithm:\n",
    "\n",
    "The diamond-square algorithm begins with a 2D square array of width and height 2n + 1. The four corner points of the array must first be set to initial values. The diamond and square steps are then performed alternately until all array values have been set.\n",
    "\n",
    "The diamond step: For each square in the array, set the midpoint of that square to be the average of the four corner points plus a random value.\n",
    "\n",
    "The square step: For each diamond in the array, set the midpoint of that diamond to be the average of the four corner points plus a random value.\n",
    "\n",
    "At each iteration, the magnitude of the random value should be reduced.\n",
    "\n",
    "During the square steps, points located on the edges of the array will have only three adjacent values set rather than four. There are a number of ways to handle this complication - the simplest being to take the average of just the three adjacent values. Another option is to 'wrap around', taking the fourth value from the other side of the array. When used with consistent initial corner values this method also allows generated fractals to be stitched together without discontinuities.\n",
    "\n",
    "![DS_algorithm](https://upload.wikimedia.org/wikipedia/commons/thumb/b/bf/Diamond_Square.svg/1600px-Diamond_Square.svg.png)"
   ]
  },
  {
   "cell_type": "code",
   "execution_count": 153,
   "metadata": {},
   "outputs": [],
   "source": [
    "import numpy as np\n",
    "import matplotlib.pyplot as plt\n",
    "import random"
   ]
  },
  {
   "cell_type": "markdown",
   "metadata": {},
   "source": [
    "## Testing simple 5x5 grid\n",
    "\n",
    "Just as in the picture above"
   ]
  },
  {
   "cell_type": "code",
   "execution_count": 154,
   "metadata": {},
   "outputs": [],
   "source": [
    "n = 5\n",
    "scale_factor = 10.\n",
    "z = np.zeros((n,n))"
   ]
  },
  {
   "cell_type": "code",
   "execution_count": 155,
   "metadata": {},
   "outputs": [],
   "source": [
    "# seed corners\n",
    "random.seed(52062)"
   ]
  },
  {
   "cell_type": "code",
   "execution_count": 156,
   "metadata": {},
   "outputs": [],
   "source": [
    "z[0,0] = 1 # random.random()*scale_factor\n",
    "z[-1,0] = 2 # random.random()*scale_factor\n",
    "z[0,-1] = 3 # random.random()*scale_factor\n",
    "z[-1,-1] = 4 # random.random()*scale_factor"
   ]
  },
  {
   "cell_type": "code",
   "execution_count": 157,
   "metadata": {},
   "outputs": [
    {
     "data": {
      "text/plain": [
       "(array([1.]), array([2.]), array([3.]), array([4.]))"
      ]
     },
     "execution_count": 157,
     "metadata": {},
     "output_type": "execute_result"
    }
   ],
   "source": [
    "z[::n,0], z[-1,0::n], z[::n,-1], z[(n-1)::n,-1], "
   ]
  },
  {
   "cell_type": "code",
   "execution_count": 158,
   "metadata": {},
   "outputs": [
    {
     "data": {
      "text/plain": [
       "<matplotlib.image.AxesImage at 0x11fd0be90>"
      ]
     },
     "execution_count": 158,
     "metadata": {},
     "output_type": "execute_result"
    },
    {
     "data": {
      "image/png": "[encoded data removed]",
      "text/plain": [
       "<Figure size 432x288 with 1 Axes>"
      ]
     },
     "metadata": {
      "needs_background": "light"
     },
     "output_type": "display_data"
    }
   ],
   "source": [
    "plt.imshow(z)"
   ]
  },
  {
   "cell_type": "code",
   "execution_count": 159,
   "metadata": {},
   "outputs": [],
   "source": [
    "z[2:-2:3,2:-2:3] = 0.25 * (z[0::n,0] + z[0::n,-1] + z[0,0::n] + z[-1,0::n])"
   ]
  },
  {
   "cell_type": "code",
   "execution_count": 160,
   "metadata": {},
   "outputs": [
    {
     "data": {
      "text/plain": [
       "<matplotlib.image.AxesImage at 0x11fefaa10>"
      ]
     },
     "execution_count": 160,
     "metadata": {},
     "output_type": "execute_result"
    },
    {
     "data": {
      "image/png": "[encoded data removed]",
      "text/plain": [
       "<Figure size 432x288 with 1 Axes>"
      ]
     },
     "metadata": {
      "needs_background": "light"
     },
     "output_type": "display_data"
    }
   ],
   "source": [
    "plt.imshow(z)"
   ]
  },
  {
   "cell_type": "code",
   "execution_count": 161,
   "metadata": {},
   "outputs": [
    {
     "data": {
      "text/plain": [
       "1.75"
      ]
     },
     "execution_count": 161,
     "metadata": {},
     "output_type": "execute_result"
    }
   ],
   "source": [
    "z[2,2]"
   ]
  },
  {
   "cell_type": "code",
   "execution_count": 162,
   "metadata": {},
   "outputs": [
    {
     "data": {
      "text/plain": [
       "2.5"
      ]
     },
     "execution_count": 162,
     "metadata": {},
     "output_type": "execute_result"
    }
   ],
   "source": [
    "(1+2+3+4)*0.25"
   ]
  },
  {
   "cell_type": "code",
   "execution_count": 163,
   "metadata": {},
   "outputs": [
    {
     "data": {
      "text/plain": [
       "117"
      ]
     },
     "execution_count": 163,
     "metadata": {},
     "output_type": "execute_result"
    }
   ],
   "source": [
    "# testing slicing over multiple scales:\n",
    "((n-1) + n) * (2 * (n-1) +n )"
   ]
  },
  {
   "cell_type": "markdown",
   "metadata": {},
   "source": [
    "## Vectorized DS on non-square grid\n",
    "\n",
    "Example with 2/1 size ratio, extend later\n",
    "\n",
    "### Define simple example grid"
   ]
  },
  {
   "cell_type": "code",
   "execution_count": 492,
   "metadata": {},
   "outputs": [],
   "source": [
    "n = 3\n",
    "n_factor_r = 1\n",
    "z = np.arange(((n-1) + n) * (n_factor_r * (n-1) +n ))\n",
    "z = z.reshape(((n-1)+n,n_factor_r*(n-1)+n))"
   ]
  },
  {
   "cell_type": "code",
   "execution_count": 493,
   "metadata": {
    "scrolled": false
   },
   "outputs": [
    {
     "data": {
      "text/plain": [
       "array([[ 0,  1,  2,  3,  4],\n",
       "       [ 5,  6,  7,  8,  9],\n",
       "       [10, 11, 12, 13, 14],\n",
       "       [15, 16, 17, 18, 19],\n",
       "       [20, 21, 22, 23, 24]])"
      ]
     },
     "execution_count": 493,
     "metadata": {},
     "output_type": "execute_result"
    }
   ],
   "source": [
    "z"
   ]
  },
  {
   "cell_type": "markdown",
   "metadata": {},
   "source": [
    "### Diamond Step\n",
    "\n",
    "![DS_algorithm](https://upload.wikimedia.org/wikipedia/commons/thumb/b/bf/Diamond_Square.svg/1600px-Diamond_Square.svg.png)"
   ]
  },
  {
   "cell_type": "code",
   "execution_count": 266,
   "metadata": {
    "scrolled": true
   },
   "outputs": [
    {
     "data": {
      "text/plain": [
       "array([[ 0,  1,  2,  3,  4],\n",
       "       [ 5,  6,  7,  8,  9],\n",
       "       [10, 11, 12, 13, 14],\n",
       "       [15, 16, 17, 18, 19],\n",
       "       [20, 21, 22, 23, 24]])"
      ]
     },
     "execution_count": 266,
     "metadata": {},
     "output_type": "execute_result"
    }
   ],
   "source": [
    "z"
   ]
  },
  {
   "cell_type": "code",
   "execution_count": 298,
   "metadata": {},
   "outputs": [
    {
     "data": {
      "text/plain": [
       "array([[ 6,  8],\n",
       "       [16, 18]])"
      ]
     },
     "execution_count": 298,
     "metadata": {},
     "output_type": "execute_result"
    }
   ],
   "source": [
    "# points to interpolate\n",
    "z[int((n-1)/2)::(n-1),int((n-1)/2)::(n-1)]"
   ]
  },
  {
   "cell_type": "code",
   "execution_count": 267,
   "metadata": {},
   "outputs": [
    {
     "data": {
      "text/plain": [
       "array([[ 0,  2],\n",
       "       [10, 12]])"
      ]
     },
     "execution_count": 267,
     "metadata": {},
     "output_type": "execute_result"
    }
   ],
   "source": [
    "# top left\n",
    "z[:-(n-1):(n-1),:-(n-1):(n-1)]"
   ]
  },
  {
   "cell_type": "code",
   "execution_count": 268,
   "metadata": {},
   "outputs": [
    {
     "data": {
      "text/plain": [
       "array([[ 2,  4],\n",
       "       [12, 14]])"
      ]
     },
     "execution_count": 268,
     "metadata": {},
     "output_type": "execute_result"
    }
   ],
   "source": [
    "# top right\n",
    "z[:-(n-1):(n-1),(n-1)::(n-1)]"
   ]
  },
  {
   "cell_type": "code",
   "execution_count": 269,
   "metadata": {},
   "outputs": [
    {
     "data": {
      "text/plain": [
       "array([[10, 12],\n",
       "       [20, 22]])"
      ]
     },
     "execution_count": 269,
     "metadata": {},
     "output_type": "execute_result"
    }
   ],
   "source": [
    "# bottom left\n",
    "z[(n-1)::(n-1),:-(n-1):(n-1)]"
   ]
  },
  {
   "cell_type": "code",
   "execution_count": 270,
   "metadata": {},
   "outputs": [
    {
     "data": {
      "text/plain": [
       "array([[12, 14],\n",
       "       [22, 24]])"
      ]
     },
     "execution_count": 270,
     "metadata": {},
     "output_type": "execute_result"
    }
   ],
   "source": [
    "# bottom right\n",
    "z[(n-1)::(n-1),(n-1)::(n-1)]"
   ]
  },
  {
   "cell_type": "markdown",
   "metadata": {},
   "source": []
  },
  {
   "cell_type": "markdown",
   "metadata": {},
   "source": [
    "## Square step\n",
    "\n",
    "\n",
    "![DS_algorithm](https://upload.wikimedia.org/wikipedia/commons/thumb/b/bf/Diamond_Square.svg/1600px-Diamond_Square.svg.png)\n",
    "\n",
    "Note: use bounrday method, i.e.: only use neighbour values at boundary and divide by three. For a vectorized implementation without too many cases, we will first expand the array with zeros and then simply apply the vecorization to both offset diagonals (as it is a basically an interpolation of a checkerboard pattern, see image):\n",
    "\n",
    "## Hierarchy 2\n",
    "\n",
    "We start with hierarchy level two, to implement:"
   ]
  },
  {
   "cell_type": "markdown",
   "metadata": {},
   "source": [
    "#### a) Expand/ pad array with zeros"
   ]
  },
  {
   "cell_type": "code",
   "execution_count": 307,
   "metadata": {},
   "outputs": [
    {
     "data": {
      "text/plain": [
       "array([[ 0,  0,  0,  0,  0,  0,  0],\n",
       "       [ 0,  0,  1,  2,  3,  4,  0],\n",
       "       [ 0,  5,  6,  7,  8,  9,  0],\n",
       "       [ 0, 10, 11, 12, 13, 14,  0],\n",
       "       [ 0, 15, 16, 17, 18, 19,  0],\n",
       "       [ 0, 20, 21, 22, 23, 24,  0],\n",
       "       [ 0,  0,  0,  0,  0,  0,  0]])"
      ]
     },
     "execution_count": 307,
     "metadata": {},
     "output_type": "execute_result"
    }
   ],
   "source": [
    "z_pad = np.pad(z, int((n-1)/2))\n",
    "z_pad"
   ]
  },
  {
   "cell_type": "markdown",
   "metadata": {},
   "source": [
    "#### b) Checkerboard odd (incl. first and last line, starts at (n-1))"
   ]
  },
  {
   "cell_type": "code",
   "execution_count": 328,
   "metadata": {
    "scrolled": true
   },
   "outputs": [
    {
     "data": {
      "text/plain": [
       "array([[ 1,  3],\n",
       "       [11, 13],\n",
       "       [21, 23]])"
      ]
     },
     "execution_count": 328,
     "metadata": {},
     "output_type": "execute_result"
    }
   ],
   "source": [
    "# check-odd, values to interpolate:\n",
    "z_pad[int((n-1)/2)::(n-1),int((n-1)):-(n-1):(n-1)]"
   ]
  },
  {
   "cell_type": "code",
   "execution_count": 331,
   "metadata": {},
   "outputs": [
    {
     "data": {
      "text/plain": [
       "array([[ 0,  2],\n",
       "       [10, 12],\n",
       "       [20, 22]])"
      ]
     },
     "execution_count": 331,
     "metadata": {},
     "output_type": "execute_result"
    }
   ],
   "source": [
    "# check-odd, left\n",
    "z_pad[int((n-1)/2)::(n-1),int((n-1)/2):-(n-1):(n-1)]"
   ]
  },
  {
   "cell_type": "code",
   "execution_count": 336,
   "metadata": {},
   "outputs": [
    {
     "data": {
      "text/plain": [
       "array([[ 2,  4],\n",
       "       [12, 14],\n",
       "       [22, 24]])"
      ]
     },
     "execution_count": 336,
     "metadata": {},
     "output_type": "execute_result"
    }
   ],
   "source": [
    "# check-odd, right\n",
    "z_pad[int((n-1)/2)::(n-1),int((n-1)+(n-1)/2):-int((n-1)/2):(n-1)]"
   ]
  },
  {
   "cell_type": "code",
   "execution_count": 339,
   "metadata": {},
   "outputs": [
    {
     "data": {
      "text/plain": [
       "array([[ 0,  0],\n",
       "       [ 6,  8],\n",
       "       [16, 18]])"
      ]
     },
     "execution_count": 339,
     "metadata": {},
     "output_type": "execute_result"
    }
   ],
   "source": [
    "# check-odd, top\n",
    "z_pad[:-int((n-1)/2):(n-1),int((n-1)):-(n-1):(n-1)]"
   ]
  },
  {
   "cell_type": "code",
   "execution_count": 342,
   "metadata": {},
   "outputs": [
    {
     "data": {
      "text/plain": [
       "array([[ 6,  8],\n",
       "       [16, 18],\n",
       "       [ 0,  0]])"
      ]
     },
     "execution_count": 342,
     "metadata": {},
     "output_type": "execute_result"
    }
   ],
   "source": [
    "# check-odd, bottom\n",
    "z_pad[int((n-1))::(n-1),int((n-1)):-(n-1):(n-1)]"
   ]
  },
  {
   "cell_type": "markdown",
   "metadata": {},
   "source": [
    "#### c) Checkerboard even\n",
    "\n",
    "\n",
    "![DS_algorithm](https://upload.wikimedia.org/wikipedia/commons/thumb/b/bf/Diamond_Square.svg/1600px-Diamond_Square.svg.png)"
   ]
  },
  {
   "cell_type": "code",
   "execution_count": 343,
   "metadata": {},
   "outputs": [
    {
     "data": {
      "text/plain": [
       "array([[ 0,  0,  0,  0,  0,  0,  0],\n",
       "       [ 0,  0,  1,  2,  3,  4,  0],\n",
       "       [ 0,  5,  6,  7,  8,  9,  0],\n",
       "       [ 0, 10, 11, 12, 13, 14,  0],\n",
       "       [ 0, 15, 16, 17, 18, 19,  0],\n",
       "       [ 0, 20, 21, 22, 23, 24,  0],\n",
       "       [ 0,  0,  0,  0,  0,  0,  0]])"
      ]
     },
     "execution_count": 343,
     "metadata": {},
     "output_type": "execute_result"
    }
   ],
   "source": [
    "z_pad"
   ]
  },
  {
   "cell_type": "code",
   "execution_count": 347,
   "metadata": {},
   "outputs": [
    {
     "data": {
      "text/plain": [
       "array([[ 5,  7,  9],\n",
       "       [15, 17, 19]])"
      ]
     },
     "execution_count": 347,
     "metadata": {},
     "output_type": "execute_result"
    }
   ],
   "source": [
    "# check-even, values to interpolate:\n",
    "z_pad[int((n-1)):-(n-1):(n-1),int((n-1)/2):-int((n-1)/2):(n-1)]"
   ]
  },
  {
   "cell_type": "code",
   "execution_count": 348,
   "metadata": {},
   "outputs": [
    {
     "data": {
      "text/plain": [
       "array([[ 0,  6,  8],\n",
       "       [ 0, 16, 18]])"
      ]
     },
     "execution_count": 348,
     "metadata": {},
     "output_type": "execute_result"
    }
   ],
   "source": [
    "# check-even, left:\n",
    "z_pad[int((n-1)):-(n-1):(n-1),:-int((n-1)):(n-1)]"
   ]
  },
  {
   "cell_type": "code",
   "execution_count": 349,
   "metadata": {},
   "outputs": [
    {
     "data": {
      "text/plain": [
       "array([[ 6,  8,  0],\n",
       "       [16, 18,  0]])"
      ]
     },
     "execution_count": 349,
     "metadata": {},
     "output_type": "execute_result"
    }
   ],
   "source": [
    "# check-even, right:\n",
    "z_pad[int((n-1)):-(n-1):(n-1),int(n-1)::(n-1)]"
   ]
  },
  {
   "cell_type": "code",
   "execution_count": 352,
   "metadata": {},
   "outputs": [
    {
     "data": {
      "text/plain": [
       "array([[ 0,  2,  4],\n",
       "       [10, 12, 14]])"
      ]
     },
     "execution_count": 352,
     "metadata": {},
     "output_type": "execute_result"
    }
   ],
   "source": [
    "# check-even, top:\n",
    "z_pad[int((n-1)/2):-int((n-1)):(n-1),int((n-1)/2):-int((n-1)/2):(n-1)]"
   ]
  },
  {
   "cell_type": "code",
   "execution_count": 355,
   "metadata": {},
   "outputs": [
    {
     "data": {
      "text/plain": [
       "array([[10, 12, 14],\n",
       "       [20, 22, 24]])"
      ]
     },
     "execution_count": 355,
     "metadata": {},
     "output_type": "execute_result"
    }
   ],
   "source": [
    "# check-even, bottom:\n",
    "z_pad[int((n-1)+(n-1)/2):-int((n-1)/2):(n-1),int((n-1)/2):-int((n-1)/2):(n-1)]"
   ]
  },
  {
   "cell_type": "code",
   "execution_count": null,
   "metadata": {},
   "outputs": [],
   "source": []
  },
  {
   "cell_type": "markdown",
   "metadata": {},
   "source": [
    "## DS-interpolation on multiple hierarchies\n",
    "\n",
    "We now extend the method to multiple hierarchies (aim: aribtrary hierarchies, for full flexibility).\n",
    "\n",
    "Note: this is still only the node selection, not the interpolation (and randomization, yet)!\n",
    "\n",
    "![DS_algorithm](https://upload.wikimedia.org/wikipedia/commons/thumb/b/bf/Diamond_Square.svg/1600px-Diamond_Square.svg.png)"
   ]
  },
  {
   "cell_type": "markdown",
   "metadata": {},
   "source": [
    "### Diamond step"
   ]
  },
  {
   "cell_type": "code",
   "execution_count": 356,
   "metadata": {
    "scrolled": true
   },
   "outputs": [
    {
     "data": {
      "text/plain": [
       "array([[ 0,  1,  2,  3,  4],\n",
       "       [ 5,  6,  7,  8,  9],\n",
       "       [10, 11, 12, 13, 14],\n",
       "       [15, 16, 17, 18, 19],\n",
       "       [20, 21, 22, 23, 24]])"
      ]
     },
     "execution_count": 356,
     "metadata": {},
     "output_type": "execute_result"
    }
   ],
   "source": [
    "z"
   ]
  },
  {
   "cell_type": "code",
   "execution_count": 362,
   "metadata": {},
   "outputs": [],
   "source": [
    "def diamond_step(z, n, m):\n",
    "    \"\"\"Perform diamond step on hierarchy m, for spacing of n\"\"\""
   ]
  },
  {
   "cell_type": "code",
   "execution_count": 396,
   "metadata": {},
   "outputs": [],
   "source": [
    "m = 1"
   ]
  },
  {
   "cell_type": "code",
   "execution_count": 397,
   "metadata": {},
   "outputs": [
    {
     "data": {
      "text/plain": [
       "array([[ 6,  8],\n",
       "       [16, 18]])"
      ]
     },
     "execution_count": 397,
     "metadata": {},
     "output_type": "execute_result"
    }
   ],
   "source": [
    "# points to interpolate\n",
    "z[m*int((n-1)/2)::m*(n-1),m*int((n-1)/2)::m*(n-1)]"
   ]
  },
  {
   "cell_type": "code",
   "execution_count": 398,
   "metadata": {},
   "outputs": [
    {
     "data": {
      "text/plain": [
       "array([[ 0,  2],\n",
       "       [10, 12]])"
      ]
     },
     "execution_count": 398,
     "metadata": {},
     "output_type": "execute_result"
    }
   ],
   "source": [
    "# top left\n",
    "z[:m*-(n-1):m*(n-1),:m*-(n-1):m*(n-1)]"
   ]
  },
  {
   "cell_type": "code",
   "execution_count": 399,
   "metadata": {},
   "outputs": [
    {
     "data": {
      "text/plain": [
       "array([[ 2,  4],\n",
       "       [12, 14]])"
      ]
     },
     "execution_count": 399,
     "metadata": {},
     "output_type": "execute_result"
    }
   ],
   "source": [
    "# top right\n",
    "z[:m*-(n-1):m*(n-1),m*(n-1)::m*(n-1)]"
   ]
  },
  {
   "cell_type": "code",
   "execution_count": 400,
   "metadata": {},
   "outputs": [
    {
     "data": {
      "text/plain": [
       "array([[10, 12],\n",
       "       [20, 22]])"
      ]
     },
     "execution_count": 400,
     "metadata": {},
     "output_type": "execute_result"
    }
   ],
   "source": [
    "# bottom left\n",
    "z[m*(n-1)::m*(n-1),:-m*(n-1):m*(n-1)]"
   ]
  },
  {
   "cell_type": "code",
   "execution_count": 401,
   "metadata": {},
   "outputs": [
    {
     "data": {
      "text/plain": [
       "array([[12, 14],\n",
       "       [22, 24]])"
      ]
     },
     "execution_count": 401,
     "metadata": {},
     "output_type": "execute_result"
    }
   ],
   "source": [
    "# bottom right\n",
    "z[m*(n-1)::m*(n-1),m*(n-1)::m*(n-1)]"
   ]
  },
  {
   "cell_type": "markdown",
   "metadata": {},
   "source": [
    "### Square step\n",
    "\n",
    "\n",
    "![DS_algorithm](https://upload.wikimedia.org/wikipedia/commons/thumb/b/bf/Diamond_Square.svg/1600px-Diamond_Square.svg.png)"
   ]
  },
  {
   "cell_type": "code",
   "execution_count": 402,
   "metadata": {},
   "outputs": [
    {
     "data": {
      "text/plain": [
       "array([[ 0,  0,  0,  0,  0,  0,  0],\n",
       "       [ 0,  0,  1,  2,  3,  4,  0],\n",
       "       [ 0,  5,  6,  7,  8,  9,  0],\n",
       "       [ 0, 10, 11, 12, 13, 14,  0],\n",
       "       [ 0, 15, 16, 17, 18, 19,  0],\n",
       "       [ 0, 20, 21, 22, 23, 24,  0],\n",
       "       [ 0,  0,  0,  0,  0,  0,  0]])"
      ]
     },
     "execution_count": 402,
     "metadata": {},
     "output_type": "execute_result"
    }
   ],
   "source": [
    "z_pad = np.pad(z, m*int((n-1)/2))\n",
    "z_pad\n",
    "\n"
   ]
  },
  {
   "cell_type": "markdown",
   "metadata": {},
   "source": [
    "#### b) Checkerboard odd (incl. first and last line, starts at (n-1))"
   ]
  },
  {
   "cell_type": "code",
   "execution_count": 403,
   "metadata": {
    "scrolled": true
   },
   "outputs": [
    {
     "data": {
      "text/plain": [
       "array([[ 1,  3],\n",
       "       [11, 13],\n",
       "       [21, 23]])"
      ]
     },
     "execution_count": 403,
     "metadata": {},
     "output_type": "execute_result"
    }
   ],
   "source": [
    "# check-odd, values to interpolate:\n",
    "z_pad[m*int((n-1)/2)::m*(n-1),m*int((n-1)):-m*(n-1):m*(n-1)]"
   ]
  },
  {
   "cell_type": "code",
   "execution_count": 404,
   "metadata": {},
   "outputs": [
    {
     "data": {
      "text/plain": [
       "array([[ 0,  2],\n",
       "       [10, 12],\n",
       "       [20, 22]])"
      ]
     },
     "execution_count": 404,
     "metadata": {},
     "output_type": "execute_result"
    }
   ],
   "source": [
    "# check-odd, left\n",
    "z_pad[m*int((n-1)/2)::m*(n-1),m*int((n-1)/2):-m*(n-1):m*(n-1)]"
   ]
  },
  {
   "cell_type": "code",
   "execution_count": 405,
   "metadata": {},
   "outputs": [
    {
     "data": {
      "text/plain": [
       "array([[ 2,  4],\n",
       "       [12, 14],\n",
       "       [22, 24]])"
      ]
     },
     "execution_count": 405,
     "metadata": {},
     "output_type": "execute_result"
    }
   ],
   "source": [
    "# check-odd, right\n",
    "z_pad[m*int((n-1)/2)::m*(n-1),m*int((n-1)+(n-1)/2):-m*int((n-1)/2):m*(n-1)]"
   ]
  },
  {
   "cell_type": "code",
   "execution_count": 406,
   "metadata": {},
   "outputs": [
    {
     "data": {
      "text/plain": [
       "array([[ 0,  0],\n",
       "       [ 6,  8],\n",
       "       [16, 18]])"
      ]
     },
     "execution_count": 406,
     "metadata": {},
     "output_type": "execute_result"
    }
   ],
   "source": [
    "# check-odd, top\n",
    "z_pad[:-m*int((n-1)/2):m*(n-1),m*int((n-1)):-m*(n-1):m*(n-1)]"
   ]
  },
  {
   "cell_type": "code",
   "execution_count": 407,
   "metadata": {},
   "outputs": [
    {
     "data": {
      "text/plain": [
       "array([[ 6,  8],\n",
       "       [16, 18],\n",
       "       [ 0,  0]])"
      ]
     },
     "execution_count": 407,
     "metadata": {},
     "output_type": "execute_result"
    }
   ],
   "source": [
    "# check-odd, bottom\n",
    "z_pad[m*int((n-1))::m*(n-1),m*int((n-1)):-m*(n-1):m*(n-1)]"
   ]
  },
  {
   "cell_type": "markdown",
   "metadata": {},
   "source": [
    "#### c) Checkerboard even\n",
    "\n",
    "\n",
    "![DS_algorithm](https://upload.wikimedia.org/wikipedia/commons/thumb/b/bf/Diamond_Square.svg/1600px-Diamond_Square.svg.png)"
   ]
  },
  {
   "cell_type": "code",
   "execution_count": 408,
   "metadata": {},
   "outputs": [
    {
     "data": {
      "text/plain": [
       "array([[ 0,  0,  0,  0,  0,  0,  0],\n",
       "       [ 0,  0,  1,  2,  3,  4,  0],\n",
       "       [ 0,  5,  6,  7,  8,  9,  0],\n",
       "       [ 0, 10, 11, 12, 13, 14,  0],\n",
       "       [ 0, 15, 16, 17, 18, 19,  0],\n",
       "       [ 0, 20, 21, 22, 23, 24,  0],\n",
       "       [ 0,  0,  0,  0,  0,  0,  0]])"
      ]
     },
     "execution_count": 408,
     "metadata": {},
     "output_type": "execute_result"
    }
   ],
   "source": [
    "z_pad"
   ]
  },
  {
   "cell_type": "code",
   "execution_count": 409,
   "metadata": {},
   "outputs": [
    {
     "data": {
      "text/plain": [
       "array([[ 5,  7,  9],\n",
       "       [15, 17, 19]])"
      ]
     },
     "execution_count": 409,
     "metadata": {},
     "output_type": "execute_result"
    }
   ],
   "source": [
    "# check-even, values to interpolate:\n",
    "z_pad[m*int((n-1)):-m*(n-1):m*(n-1),m*int((n-1)/2):-m*int((n-1)/2):m*(n-1)]"
   ]
  },
  {
   "cell_type": "code",
   "execution_count": 410,
   "metadata": {},
   "outputs": [
    {
     "data": {
      "text/plain": [
       "array([[ 0,  6,  8],\n",
       "       [ 0, 16, 18]])"
      ]
     },
     "execution_count": 410,
     "metadata": {},
     "output_type": "execute_result"
    }
   ],
   "source": [
    "# check-even, left:\n",
    "z_pad[m*int((n-1)):-m*(n-1):m*(n-1),:-m*int((n-1)):m*(n-1)]"
   ]
  },
  {
   "cell_type": "code",
   "execution_count": 411,
   "metadata": {},
   "outputs": [
    {
     "data": {
      "text/plain": [
       "array([[ 6,  8,  0],\n",
       "       [16, 18,  0]])"
      ]
     },
     "execution_count": 411,
     "metadata": {},
     "output_type": "execute_result"
    }
   ],
   "source": [
    "# check-even, right:\n",
    "z_pad[m*int((n-1)):-m*(n-1):m*(n-1),m*int(n-1)::m*(n-1)]"
   ]
  },
  {
   "cell_type": "code",
   "execution_count": 412,
   "metadata": {
    "scrolled": true
   },
   "outputs": [
    {
     "data": {
      "text/plain": [
       "array([[ 0,  2,  4],\n",
       "       [10, 12, 14]])"
      ]
     },
     "execution_count": 412,
     "metadata": {},
     "output_type": "execute_result"
    }
   ],
   "source": [
    "# check-even, top:\n",
    "z_pad[m*int((n-1)/2):-m*int((n-1)):m*(n-1),m*int((n-1)/2):-m*int((n-1)/2):m*(n-1)]"
   ]
  },
  {
   "cell_type": "code",
   "execution_count": 417,
   "metadata": {
    "scrolled": false
   },
   "outputs": [
    {
     "data": {
      "text/plain": [
       "array([[10, 12, 14],\n",
       "       [20, 22, 24]])"
      ]
     },
     "execution_count": 417,
     "metadata": {},
     "output_type": "execute_result"
    }
   ],
   "source": [
    "# check-even, bottom:\n",
    "z_pad[m*int((n-1)+(n-1)/2)::m*(n-1),m*int((n-1)/2):-m*int((n-1)/2):m*(n-1)]"
   ]
  },
  {
   "cell_type": "markdown",
   "metadata": {},
   "source": [
    "## Visualization of point selection on multiple hierarchies\n",
    "\n",
    "For testing/ debugging: visualization of point selection"
   ]
  },
  {
   "cell_type": "code",
   "execution_count": 710,
   "metadata": {},
   "outputs": [],
   "source": [
    "def get_selection_diamond(z, n, m_pow):\n",
    "    \"\"\"get selected points for diamond step on grid z with original node spacing n on hierarchy m\n",
    "    \"\"\"\n",
    "\n",
    "    m = 2**m_pow\n",
    "    \n",
    "    # points to interpolate\n",
    "    z[m*int((n-1)/2)::m*(n-1),m*int((n-1)/2)::m*(n-1)] = 1\n",
    "    \n",
    "    # top left\n",
    "    z[:m*-(n-1):m*(n-1),:m*-(n-1):m*(n-1)] = 2\n",
    "\n",
    "    # top right\n",
    "    z[:m*-(n-1):m*(n-1),m*(n-1)::m*(n-1)] = 2\n",
    "\n",
    "    # bottom left\n",
    "    z[m*(n-1)::m*(n-1),:-m*(n-1):m*(n-1)] = 2\n",
    "\n",
    "    # bottom right\n",
    "    z[m*(n-1)::m*(n-1),m*(n-1)::m*(n-1)] = 2\n",
    "    \n",
    "    return z\n",
    "\n",
    "def plot_selection_diamond(z, n, m_pow, pad=False):\n",
    "    \"\"\"Plot selected points for diamond step on grid z with original node spacing n on hierarchy m\n",
    "    \n",
    "    pad = bool: show padding in image (for comparison with square step)\n",
    "    \"\"\"\n",
    "    \n",
    "    m = 2**m_pow\n",
    "    \n",
    "    z = get_selection_diamond(z, n, m_pow)\n",
    "    \n",
    "    if pad:\n",
    "        z_pad = np.pad(z, m*int((n-1)/2)).astype('float32')\n",
    "        plt.imshow(z_pad)\n",
    "    else:\n",
    "        plt.imshow(z)"
   ]
  },
  {
   "cell_type": "code",
   "execution_count": 763,
   "metadata": {},
   "outputs": [],
   "source": [
    "def get_selection_square(z, n, m_pow):\n",
    "    \"\"\"Plot selected points for square step on grid z with original node spacing n on hierarchy m\n",
    "    \"\"\"\n",
    "    \n",
    "    m = 2**m_pow\n",
    "    \n",
    "    # pad cells with zero value\n",
    "    z_pad = np.pad(z, m*int((n-1)/2)).astype('float32')\n",
    "    \n",
    "    ## Checkerboard odd\n",
    "\n",
    "    # check-odd, values to interpolate:\n",
    "    z_pad[m*int((n-1)/2)::m*(n-1),m*int((n-1)):-m*(n-1):m*(n-1)] = 1\n",
    "\n",
    "    # check-odd, left\n",
    "    z_pad[m*int((n-1)/2)::m*(n-1),m*int((n-1)/2):-m*(n-1):m*(n-1)] = 2\n",
    "\n",
    "    # check-odd, right\n",
    "    z_pad[m*int((n-1)/2)::m*(n-1),m*int((n-1)+(n-1)/2):-m*int((n-1)/2):m*(n-1)] = 2\n",
    "\n",
    "    # check-odd, top\n",
    "    z_pad[:-m*int((n-1)/2):m*(n-1),m*int((n-1)):-m*(n-1):m*(n-1)] = 2\n",
    "\n",
    "    # check-odd, bottom\n",
    "    z_pad[m*int((n-1))::m*(n-1),m*int((n-1)):-m*(n-1):m*(n-1)] = 2\n",
    "\n",
    "    ## Checkerboard even\n",
    "\n",
    "    # check-even, values to interpolate:\n",
    "    z_pad[m*int((n-1)):-m*(n-1):m*(n-1),m*int((n-1)/2):-m*int((n-1)/2):m*(n-1)] = 1\n",
    "\n",
    "    # check-even, left:\n",
    "    z_pad[m*int((n-1)):-m*(n-1):m*(n-1),:-m*int((n-1)):m*(n-1)] = 2\n",
    "\n",
    "    # check-even, right:\n",
    "    z_pad[m*int((n-1)):-m*(n-1):m*(n-1),m*int(n-1)::m*(n-1)] = 2\n",
    "\n",
    "    # check-even, top:\n",
    "    z_pad[m*int((n-1)/2):-m*int((n-1)):m*(n-1),m*int((n-1)/2):-m*int((n-1)/2):m*(n-1)] = 2\n",
    "\n",
    "    # check-even, bottom:\n",
    "    z_pad[m*int((n-1)+(n-1)/2)::m*(n-1),m*int((n-1)/2):-m*int((n-1)/2):m*(n-1)] = 2\n",
    "    \n",
    "    return z_pad\n",
    "        \n",
    "def plot_selection_square(z, n, m_pow, pad=False):\n",
    "    \"\"\"Plot selected points for square step on grid z with original node spacing n on hierarchy m\n",
    "    \n",
    "    pad = bool: show padding in image or remove (for comparison with diamond step)\n",
    "    \"\"\"\n",
    "    \n",
    "    m = 2**m_pow\n",
    "    \n",
    "    z_pad = get_selection_square(z, n, m_pow)\n",
    "    print(pad)\n",
    "    \n",
    "    if pad:\n",
    "        plt.imshow(z_pad)\n",
    "    else:\n",
    "        plt.imshow(z_pad[m*int((n-1)/2):-m*int((n-1)/2), m*int((n-1)/2):-m*int((n-1)/2)])\n",
    "        \n",
    "def plot_diamond_and_square(z, n, m_pow_max, pad=False):\n",
    "    \"\"\"Plot selected points for diamond and square step for all hierarchies side by side\"\"\"\n",
    "    f, axes = plt.subplots(2, m_pow_max, figsize=(12,6))\n",
    "    \n",
    "    for i,m_pow in enumerate(np.arange(m_pow_max)[::-1]):\n",
    "        m = 2**m_pow\n",
    "        z_zero = np.zeros_like(z)\n",
    "        z_diamond = get_selection_diamond(z_zero, n, m_pow)\n",
    "        z_square = get_selection_square(z_zero, n, m_pow)\n",
    "        axes[0,i].imshow(z_diamond)\n",
    "        axes[1,i].imshow(z_square[m*int((n-1)/2):-m*int((n-1)/2), m*int((n-1)/2):-m*int((n-1)/2)])\n",
    "    "
   ]
  },
  {
   "cell_type": "code",
   "execution_count": 764,
   "metadata": {},
   "outputs": [],
   "source": [
    "n = 3\n",
    "h_factor = 7\n",
    "w_factor_r = 7\n",
    "z = np.arange((h_factor * (n-1) + n) * (w_factor_r * (n-1) +n ))\n",
    "z = z.reshape((h_factor*(n-1)+n,w_factor_r*(n-1)+n))"
   ]
  },
  {
   "cell_type": "code",
   "execution_count": 765,
   "metadata": {
    "scrolled": false
   },
   "outputs": [
    {
     "data": {
      "image/png": "[encoded data removed]",
      "text/plain": [
       "<Figure size 864x432 with 8 Axes>"
      ]
     },
     "metadata": {
      "needs_background": "light"
     },
     "output_type": "display_data"
    }
   ],
   "source": [
    "m_pow_max = 4\n",
    "\n",
    "pad = False\n",
    "z_zero = np.zeros_like(z)\n",
    "plot_diamond_and_square(z_zero, n, m_pow_max)"
   ]
  },
  {
   "cell_type": "code",
   "execution_count": 716,
   "metadata": {},
   "outputs": [
    {
     "data": {
      "image/png": "[encoded data removed]",
      "text/plain": [
       "<Figure size 432x288 with 1 Axes>"
      ]
     },
     "metadata": {
      "needs_background": "light"
     },
     "output_type": "display_data"
    }
   ],
   "source": [
    "m_pow = 3\n",
    "pad = False\n",
    "z_zero = np.zeros_like(z)\n",
    "plot_selection_diamond(z_zero, n, m_pow, pad=pad)"
   ]
  },
  {
   "cell_type": "code",
   "execution_count": 717,
   "metadata": {},
   "outputs": [
    {
     "name": "stdout",
     "output_type": "stream",
     "text": [
      "False\n"
     ]
    },
    {
     "data": {
      "image/png": "[encoded data removed]",
      "text/plain": [
       "<Figure size 432x288 with 1 Axes>"
      ]
     },
     "metadata": {
      "needs_background": "light"
     },
     "output_type": "display_data"
    }
   ],
   "source": [
    "plot_selection_square(z_zero, n, m_pow, pad=pad)"
   ]
  },
  {
   "cell_type": "markdown",
   "metadata": {},
   "source": [
    "### Scale\n",
    "\n",
    "Note: using non-wrapped scaling, i.e.: at edges division by 3, else by 4.\n",
    "\n",
    "For vectorization, we create a \"division grid\" with corresponding values:\n",
    "\n",
    "\n",
    "Also to do:\n",
    "\n",
    "- random initialization with multiple methods (also: RF?)\n",
    "- automatic adjustment to gempy model range\n",
    "- visualization: compare randomized initial values vs. more hierarchies on DS step"
   ]
  },
  {
   "cell_type": "code",
   "execution_count": 437,
   "metadata": {},
   "outputs": [],
   "source": [
    "np.pad?"
   ]
  },
  {
   "cell_type": "code",
   "execution_count": null,
   "metadata": {},
   "outputs": [],
   "source": []
  }
 ],
 "metadata": {
  "kernelspec": {
   "display_name": "Python 3",
   "language": "python",
   "name": "python3"
  },
  "language_info": {
   "codemirror_mode": {
    "name": "ipython",
    "version": 3
   },
   "file_extension": ".py",
   "mimetype": "text/x-python",
   "name": "python",
   "nbconvert_exporter": "python",
   "pygments_lexer": "ipython3",
   "version": "3.7.4"
  }
 },
 "nbformat": 4,
 "nbformat_minor": 2
}
