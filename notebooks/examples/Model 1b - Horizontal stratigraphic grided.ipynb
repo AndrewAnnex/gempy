{
 "cells": [
  {
   "cell_type": "markdown",
   "metadata": {},
   "source": [
    "# Model 1b - Horizontal stratigraphic gridded"
   ]
  },
  {
   "cell_type": "markdown",
   "metadata": {},
   "source": [
    "This is the most simpel model of horizontally stacked layers and we will use a bunch of subgrids. We start by importing the necessary dependencies:"
   ]
  },
  {
   "cell_type": "code",
   "execution_count": 1,
   "metadata": {
    "pycharm": {
     "is_executing": false
    }
   },
   "outputs": [],
   "source": [
    "# These two lines are necessary only if GemPy is not installed\n",
    "import sys, os\n",
    "#sys.path.append(\"../..\")\n",
    "os.environ[\"THEANO_FLAGS\"] = \"mode=FAST_RUN,device=cpu\"\n",
    "\n",
    "# Importing GemPy\n",
    "import gempy as gp\n",
    "\n",
    "# Embedding matplotlib figures in the notebooks\n",
    "%matplotlib inline\n",
    "\n",
    "# Importing auxiliary libraries\n",
    "import numpy as np\n",
    "import xarray as xr\n",
    "import matplotlib.pyplot as plt"
   ]
  },
  {
   "cell_type": "markdown",
   "metadata": {},
   "source": [
    "Creating the model by importing the input data and displaying it:"
   ]
  },
  {
   "cell_type": "code",
   "execution_count": 2,
   "metadata": {
    "scrolled": false,
    "pycharm": {
     "is_executing": false
    }
   },
   "outputs": [
    {
     "name": "stdout",
     "text": [
      "Active grids: ['regular']\n"
     ],
     "output_type": "stream"
    }
   ],
   "source": [
    "geo_data = gp.create_data([0,1000,0,1000,0,1000],resolution=[50,50,50], \n",
    "                        path_o = os.pardir+\"/data/input_data/jan_models/model1_orientations.csv\",\n",
    "                        path_i = os.pardir+\"/data/input_data/jan_models/model1_surface_points.csv\") "
   ]
  },
  {
   "cell_type": "markdown",
   "metadata": {},
   "source": [
    "Setting and ordering the units and series:"
   ]
  },
  {
   "cell_type": "code",
   "execution_count": 3,
   "metadata": {
    "pycharm": {
     "is_executing": false
    }
   },
   "outputs": [
    {
     "data": {
      "text/plain": "    surface           series  order_surfaces  isActive    color  id\n0     rock2     Strat_Series               1      True  #015482   1\n1     rock1     Strat_Series               2      True  #9f0052   2\n2  basement  Basement_Series               1      True  #ffbe00   3",
      "text/html": "<style  type=\"text/css\" >\n    #T_ce6f5dba_4dd4_11ea_8f6a_dca904930d3brow0_col4 {\n            background-color:  #015482;\n        }    #T_ce6f5dba_4dd4_11ea_8f6a_dca904930d3brow1_col4 {\n            background-color:  #9f0052;\n        }    #T_ce6f5dba_4dd4_11ea_8f6a_dca904930d3brow2_col4 {\n            background-color:  #ffbe00;\n        }</style><table id=\"T_ce6f5dba_4dd4_11ea_8f6a_dca904930d3b\" ><thead>    <tr>        <th class=\"blank level0\" ></th>        <th class=\"col_heading level0 col0\" >surface</th>        <th class=\"col_heading level0 col1\" >series</th>        <th class=\"col_heading level0 col2\" >order_surfaces</th>        <th class=\"col_heading level0 col3\" >isActive</th>        <th class=\"col_heading level0 col4\" >color</th>        <th class=\"col_heading level0 col5\" >id</th>    </tr></thead><tbody>\n                <tr>\n                        <th id=\"T_ce6f5dba_4dd4_11ea_8f6a_dca904930d3blevel0_row0\" class=\"row_heading level0 row0\" >0</th>\n                        <td id=\"T_ce6f5dba_4dd4_11ea_8f6a_dca904930d3brow0_col0\" class=\"data row0 col0\" >rock2</td>\n                        <td id=\"T_ce6f5dba_4dd4_11ea_8f6a_dca904930d3brow0_col1\" class=\"data row0 col1\" >Strat_Series</td>\n                        <td id=\"T_ce6f5dba_4dd4_11ea_8f6a_dca904930d3brow0_col2\" class=\"data row0 col2\" >1</td>\n                        <td id=\"T_ce6f5dba_4dd4_11ea_8f6a_dca904930d3brow0_col3\" class=\"data row0 col3\" >True</td>\n                        <td id=\"T_ce6f5dba_4dd4_11ea_8f6a_dca904930d3brow0_col4\" class=\"data row0 col4\" >#015482</td>\n                        <td id=\"T_ce6f5dba_4dd4_11ea_8f6a_dca904930d3brow0_col5\" class=\"data row0 col5\" >1</td>\n            </tr>\n            <tr>\n                        <th id=\"T_ce6f5dba_4dd4_11ea_8f6a_dca904930d3blevel0_row1\" class=\"row_heading level0 row1\" >1</th>\n                        <td id=\"T_ce6f5dba_4dd4_11ea_8f6a_dca904930d3brow1_col0\" class=\"data row1 col0\" >rock1</td>\n                        <td id=\"T_ce6f5dba_4dd4_11ea_8f6a_dca904930d3brow1_col1\" class=\"data row1 col1\" >Strat_Series</td>\n                        <td id=\"T_ce6f5dba_4dd4_11ea_8f6a_dca904930d3brow1_col2\" class=\"data row1 col2\" >2</td>\n                        <td id=\"T_ce6f5dba_4dd4_11ea_8f6a_dca904930d3brow1_col3\" class=\"data row1 col3\" >True</td>\n                        <td id=\"T_ce6f5dba_4dd4_11ea_8f6a_dca904930d3brow1_col4\" class=\"data row1 col4\" >#9f0052</td>\n                        <td id=\"T_ce6f5dba_4dd4_11ea_8f6a_dca904930d3brow1_col5\" class=\"data row1 col5\" >2</td>\n            </tr>\n            <tr>\n                        <th id=\"T_ce6f5dba_4dd4_11ea_8f6a_dca904930d3blevel0_row2\" class=\"row_heading level0 row2\" >2</th>\n                        <td id=\"T_ce6f5dba_4dd4_11ea_8f6a_dca904930d3brow2_col0\" class=\"data row2 col0\" >basement</td>\n                        <td id=\"T_ce6f5dba_4dd4_11ea_8f6a_dca904930d3brow2_col1\" class=\"data row2 col1\" >Basement_Series</td>\n                        <td id=\"T_ce6f5dba_4dd4_11ea_8f6a_dca904930d3brow2_col2\" class=\"data row2 col2\" >1</td>\n                        <td id=\"T_ce6f5dba_4dd4_11ea_8f6a_dca904930d3brow2_col3\" class=\"data row2 col3\" >True</td>\n                        <td id=\"T_ce6f5dba_4dd4_11ea_8f6a_dca904930d3brow2_col4\" class=\"data row2 col4\" >#ffbe00</td>\n                        <td id=\"T_ce6f5dba_4dd4_11ea_8f6a_dca904930d3brow2_col5\" class=\"data row2 col5\" >3</td>\n            </tr>\n    </tbody></table>"
     },
     "metadata": {},
     "output_type": "execute_result",
     "execution_count": 3
    }
   ],
   "source": [
    "gp.map_series_to_surfaces(geo_data, {\"Strat_Series\": ('rock2','rock1'),\"Basement_Series\":('basement')})"
   ]
  },
  {
   "cell_type": "code",
   "execution_count": 4,
   "metadata": {
    "pycharm": {
     "is_executing": false
    }
   },
   "outputs": [
    {
     "data": {
      "text/plain": "<gempy.plot.visualization_2d.PlotData2D at 0x12b879748>"
     },
     "metadata": {},
     "output_type": "execute_result",
     "execution_count": 4
    },
    {
     "data": {
      "text/plain": "<Figure size 432x432 with 1 Axes>",
      "image/png": "[encoded data removed]"
     },
     "metadata": {
      "needs_background": "light"
     },
     "output_type": "display_data"
    }
   ],
   "source": [
    "%matplotlib inline\n",
    "gp.plot.plot_data(geo_data, direction='y')"
   ]
  },
  {
   "cell_type": "markdown",
   "metadata": {},
   "source": [
    "Calculating the model:"
   ]
  },
  {
   "cell_type": "code",
   "execution_count": 5,
   "metadata": {
    "scrolled": false,
    "pycharm": {
     "is_executing": false
    }
   },
   "outputs": [
    {
     "name": "stdout",
     "text": [
      "Compiling theano function...\n",
      "Level of Optimization:  fast_run\n",
      "Device:  cpu\n",
      "Precision:  float64\n",
      "Number of faults:  0\n",
      "Compilation Done!\n"
     ],
     "output_type": "stream"
    },
    {
     "name": "stderr",
     "text": [
      "/Users/andrew/anaconda3/envs/gempy3/lib/python3.7/site-packages/theano/gof/cc.py:968: UserWarning: Your g++ compiler fails to compile OpenMP code. We know this happen with some version of the EPD mingw compiler and LLVM compiler on Mac OS X. We disable openmp everywhere in Theano. To remove this warning set the theano flags `openmp` to False.\n",
      "  ret += x.c_compile_args()\n"
     ],
     "output_type": "stream"
    }
   ],
   "source": [
    "interp_data = gp.set_interpolation_data(geo_data, compile_theano=True,\n",
    "                                        theano_optimizer='fast_run')"
   ]
  },
  {
   "cell_type": "markdown",
   "source": [
    "First create a combined grid of the total size we want to compute, and create the solution object"
   ],
   "metadata": {
    "collapsed": false
   }
  },
  {
   "cell_type": "code",
   "execution_count": 6,
   "metadata": {
    "pycharm": {
     "is_executing": false
    }
   },
   "outputs": [],
   "source": [
    "combined_grid = gp.core.data.Grid()\n",
    "combined_regular_grid = combined_grid.create_regular_grid(extent=[0, 1000, 0, 1000, 0, 1000], resolution=[100,100,100])\n",
    "combined_solution = gp.core.model.Solution(grid=combined_grid, surfaces=geo_data.surfaces, series=geo_data.series)"
   ]
  },
  {
   "cell_type": "markdown",
   "source": [
    "Next, create the sub-grid objects, here we are asking for 2 divisons on the X, Y, Z axes.\n",
    "This should result in 8 sub-grids extents and resolutions."
   ],
   "metadata": {
    "collapsed": false
   }
  },
  {
   "cell_type": "code",
   "execution_count": 7,
   "metadata": {
    "pycharm": {
     "is_executing": false
    }
   },
   "outputs": [],
   "source": [
    "grids = gp.grid_types.define_subgrid_parameters(combined_grid, 2, 2, 2)"
   ]
  },
  {
   "cell_type": "code",
   "execution_count": 8,
   "metadata": {
    "pycharm": {
     "is_executing": false
    }
   },
   "outputs": [
    {
     "name": "stdout",
     "text": [
      "8\n",
      "([0.0, 500.0, 0.0, 500.0, 0.0, 500.0], [50, 50, 50])\n"
     ],
     "output_type": "stream"
    }
   ],
   "source": [
    "# should be 8\n",
    "print(len(grids))\n",
    "print(grids[0])"
   ]
  },
  {
   "cell_type": "markdown",
   "source": [
    "We now have a list of the extents and resolutions of the sub grids.\n",
    "Now compute the model, ie do the 'fit'. "
   ],
   "metadata": {
    "collapsed": false,
    "pycharm": {
     "name": "#%% md\n"
    }
   }
  },
  {
   "cell_type": "code",
   "execution_count": 9,
   "outputs": [
    {
     "data": {
      "text/plain": "[array([[3. , 3. , 3. , ..., 2.5, 2.5, 2.5]]),\n array([[[3. , 3. , 3. , ..., 2.5, 2.5, 2.5]]]),\n array([[0., 0., 0., ..., 0., 0., 0.]]),\n array([-8.41082564e-21, -2.83078639e-22,  2.21803385e-21, -1.64720997e-20,\n        -6.92823608e-22, -4.63131647e-22, -1.09375087e-20, -1.60558875e-20,\n         7.52766533e-20, -9.65470265e-21, -1.54362860e-20,  2.38839349e-20,\n         1.26225423e-20, -7.83942694e-20, -9.55642672e-22, -1.53673689e-20,\n        -4.16384676e-18, -2.44959093e-18,  1.00000000e+00]),\n array([[0.3877, 0.4127, 0.4377, ..., 0.8752, 0.8752, 0.8752]]),\n array([[1.1252, 0.8752]]),\n array([[ True,  True,  True, ...,  True,  True,  True]]),\n array([[False, False, False, ..., False, False, False]]),\n array(nan),\n array(nan),\n array(nan),\n array(nan),\n array(nan),\n array(nan)]"
     },
     "metadata": {},
     "output_type": "execute_result",
     "execution_count": 9
    }
   ],
   "source": [
    "gp.compute_model(geo_data, set_solutions=False, compute_mesh=False) "
   ],
   "metadata": {
    "collapsed": false,
    "pycharm": {
     "name": "#%% \n",
     "is_executing": false
    }
   }
  },
  {
   "cell_type": "markdown",
   "source": [
    "now that we have computed the model we can now 'evaluate' the model at our sub-grids"
   ],
   "metadata": {
    "collapsed": false,
    "pycharm": {
     "name": "#%% md\n"
    }
   }
  },
  {
   "cell_type": "code",
   "execution_count": 10,
   "metadata": {
    "pycharm": {
     "is_executing": false
    }
   },
   "outputs": [
    {
     "name": "stdout",
     "text": [
      "Active grids: ['regular']\n",
      "Active grids: ['regular']\n",
      "Active grids: ['regular']\n",
      "Active grids: ['regular']\n",
      "Active grids: ['regular']\n",
      "Active grids: ['regular']\n",
      "Active grids: ['regular']\n",
      "Active grids: ['regular']\n"
     ],
     "output_type": "stream"
    }
   ],
   "source": [
    "sub_grids_and_solutions = []\n",
    "for extent, res in grids:\n",
    "    grid = gp.core.data.Grid()\n",
    "    grid.create_regular_grid(extent=extent, resolution=res)\n",
    "    geo_data.set_regular_grid(extent, res)\n",
    "    sol = gp.compute_model(geo_data, output='geology', compute_mesh=False, set_solutions=False, \n",
    "                           reset_scalar=False, reset_block=False, reset_weights=False)\n",
    "    sub_grids_and_solutions.append((grid,sol))"
   ]
  },
  {
   "cell_type": "code",
   "execution_count": 12,
   "metadata": {
    "pycharm": {
     "is_executing": false
    }
   },
   "outputs": [
    {
     "traceback": [
      "\u001b[0;31m---------------------------------------------------------------------------\u001b[0m",
      "\u001b[0;31mKeyboardInterrupt\u001b[0m                         Traceback (most recent call last)",
      "\u001b[0;32m<ipython-input-12-6470ca7b34a6>\u001b[0m in \u001b[0;36m<module>\u001b[0;34m\u001b[0m\n\u001b[1;32m      1\u001b[0m \u001b[0;31m# pydev_debug_cell\u001b[0m\u001b[0;34m\u001b[0m\u001b[0;34m\u001b[0m\u001b[0;34m\u001b[0m\u001b[0m\n\u001b[0;32m----> 2\u001b[0;31m \u001b[0mx\u001b[0m \u001b[0;34m=\u001b[0m \u001b[0mgp\u001b[0m\u001b[0;34m.\u001b[0m\u001b[0mset_sub_grid_solutions_to_regular_grid\u001b[0m\u001b[0;34m(\u001b[0m\u001b[0mgeo_data\u001b[0m\u001b[0;34m,\u001b[0m \u001b[0mcombined_solution\u001b[0m\u001b[0;34m,\u001b[0m \u001b[0mcombined_grid\u001b[0m\u001b[0;34m,\u001b[0m \u001b[0msub_grids_and_solutions\u001b[0m\u001b[0;34m)\u001b[0m\u001b[0;34m;\u001b[0m\u001b[0;34m\u001b[0m\u001b[0;34m\u001b[0m\u001b[0m\n\u001b[0m\u001b[1;32m      3\u001b[0m \u001b[0;34m\u001b[0m\u001b[0m\n",
      "\u001b[0;32m~/PycharmProjects/gempy/gempy/core/gempy_api.py\u001b[0m in \u001b[0;36mset_sub_grid_solutions_to_regular_grid\u001b[0;34m(geo_model, combined_solution, target_grid, subgrids_and_solutions, compute_mesh)\u001b[0m\n\u001b[1;32m    381\u001b[0m     \u001b[0;34m:\u001b[0m\u001b[0;32mreturn\u001b[0m\u001b[0;34m:\u001b[0m\u001b[0;34m\u001b[0m\u001b[0;34m\u001b[0m\u001b[0m\n\u001b[1;32m    382\u001b[0m     \"\"\"\n\u001b[0;32m--> 383\u001b[0;31m     \u001b[0mvals\u001b[0m \u001b[0;34m=\u001b[0m \u001b[0mgrid_types\u001b[0m\u001b[0;34m.\u001b[0m\u001b[0mcombine_sub_grids\u001b[0m\u001b[0;34m(\u001b[0m\u001b[0mtarget_grid\u001b[0m\u001b[0;34m,\u001b[0m \u001b[0msubgrids_and_solutions\u001b[0m\u001b[0;34m)\u001b[0m\u001b[0;34m\u001b[0m\u001b[0;34m\u001b[0m\u001b[0m\n\u001b[0m\u001b[1;32m    384\u001b[0m     \u001b[0mcombined_solution\u001b[0m\u001b[0;34m.\u001b[0m\u001b[0mset_solution_to_regular_grid\u001b[0m\u001b[0;34m(\u001b[0m\u001b[0mvals\u001b[0m\u001b[0;34m,\u001b[0m \u001b[0mcompute_mesh\u001b[0m\u001b[0;34m=\u001b[0m\u001b[0mcompute_mesh\u001b[0m\u001b[0;34m)\u001b[0m\u001b[0;34m\u001b[0m\u001b[0;34m\u001b[0m\u001b[0m\n\u001b[1;32m    385\u001b[0m     \u001b[0mgeo_model\u001b[0m\u001b[0;34m.\u001b[0m\u001b[0msolutions\u001b[0m \u001b[0;34m=\u001b[0m \u001b[0mcombined_solution\u001b[0m\u001b[0;34m\u001b[0m\u001b[0;34m\u001b[0m\u001b[0m\n",
      "\u001b[0;32m~/PycharmProjects/gempy/gempy/core/grid_modules/grid_types.py\u001b[0m in \u001b[0;36mcombine_sub_grids\u001b[0;34m(target_grid, grids_and_solutions)\u001b[0m\n\u001b[1;32m    569\u001b[0m         \u001b[0mv2\u001b[0m \u001b[0;34m=\u001b[0m \u001b[0ms\u001b[0m\u001b[0;34m[\u001b[0m\u001b[0;36m2\u001b[0m\u001b[0;34m]\u001b[0m\u001b[0;34m\u001b[0m\u001b[0;34m\u001b[0m\u001b[0m\n\u001b[1;32m    570\u001b[0m         \u001b[0mv3\u001b[0m \u001b[0;34m=\u001b[0m \u001b[0ms\u001b[0m\u001b[0;34m[\u001b[0m\u001b[0;36m3\u001b[0m\u001b[0;34m]\u001b[0m\u001b[0;34m\u001b[0m\u001b[0;34m\u001b[0m\u001b[0m\n\u001b[0;32m--> 571\u001b[0;31m         \u001b[0mv4\u001b[0m \u001b[0;34m=\u001b[0m \u001b[0mnp\u001b[0m\u001b[0;34m.\u001b[0m\u001b[0masarray\u001b[0m\u001b[0;34m(\u001b[0m\u001b[0ms\u001b[0m\u001b[0;34m[\u001b[0m\u001b[0;36m4\u001b[0m\u001b[0;34m]\u001b[0m\u001b[0;34m[\u001b[0m\u001b[0ml0\u001b[0m\u001b[0;34m:\u001b[0m \u001b[0ml1\u001b[0m\u001b[0;34m]\u001b[0m\u001b[0;34m)\u001b[0m\u001b[0;34m\u001b[0m\u001b[0;34m\u001b[0m\u001b[0m\n\u001b[0m\u001b[1;32m    572\u001b[0m         \u001b[0mv5\u001b[0m \u001b[0;34m=\u001b[0m \u001b[0ms\u001b[0m\u001b[0;34m[\u001b[0m\u001b[0;36m5\u001b[0m\u001b[0;34m]\u001b[0m\u001b[0;34m\u001b[0m\u001b[0;34m\u001b[0m\u001b[0m\n\u001b[1;32m    573\u001b[0m         \u001b[0mv6\u001b[0m \u001b[0;34m=\u001b[0m \u001b[0mnp\u001b[0m\u001b[0;34m.\u001b[0m\u001b[0masarray\u001b[0m\u001b[0;34m(\u001b[0m\u001b[0ms\u001b[0m\u001b[0;34m[\u001b[0m\u001b[0;36m6\u001b[0m\u001b[0;34m]\u001b[0m\u001b[0;34m[\u001b[0m\u001b[0;36m0\u001b[0m\u001b[0;34m,\u001b[0m \u001b[0ml0\u001b[0m\u001b[0;34m:\u001b[0m \u001b[0ml1\u001b[0m\u001b[0;34m]\u001b[0m\u001b[0;34m)\u001b[0m\u001b[0;34m\u001b[0m\u001b[0;34m\u001b[0m\u001b[0m\n",
      "\u001b[0;32m~/PycharmProjects/gempy/gempy/core/grid_modules/grid_types.py\u001b[0m in \u001b[0;36mcombine_sub_grids\u001b[0;34m(target_grid, grids_and_solutions)\u001b[0m\n\u001b[1;32m    569\u001b[0m         \u001b[0mv2\u001b[0m \u001b[0;34m=\u001b[0m \u001b[0ms\u001b[0m\u001b[0;34m[\u001b[0m\u001b[0;36m2\u001b[0m\u001b[0;34m]\u001b[0m\u001b[0;34m\u001b[0m\u001b[0;34m\u001b[0m\u001b[0m\n\u001b[1;32m    570\u001b[0m         \u001b[0mv3\u001b[0m \u001b[0;34m=\u001b[0m \u001b[0ms\u001b[0m\u001b[0;34m[\u001b[0m\u001b[0;36m3\u001b[0m\u001b[0;34m]\u001b[0m\u001b[0;34m\u001b[0m\u001b[0;34m\u001b[0m\u001b[0m\n\u001b[0;32m--> 571\u001b[0;31m         \u001b[0mv4\u001b[0m \u001b[0;34m=\u001b[0m \u001b[0mnp\u001b[0m\u001b[0;34m.\u001b[0m\u001b[0masarray\u001b[0m\u001b[0;34m(\u001b[0m\u001b[0ms\u001b[0m\u001b[0;34m[\u001b[0m\u001b[0;36m4\u001b[0m\u001b[0;34m]\u001b[0m\u001b[0;34m[\u001b[0m\u001b[0ml0\u001b[0m\u001b[0;34m:\u001b[0m \u001b[0ml1\u001b[0m\u001b[0;34m]\u001b[0m\u001b[0;34m)\u001b[0m\u001b[0;34m\u001b[0m\u001b[0;34m\u001b[0m\u001b[0m\n\u001b[0m\u001b[1;32m    572\u001b[0m         \u001b[0mv5\u001b[0m \u001b[0;34m=\u001b[0m \u001b[0ms\u001b[0m\u001b[0;34m[\u001b[0m\u001b[0;36m5\u001b[0m\u001b[0;34m]\u001b[0m\u001b[0;34m\u001b[0m\u001b[0;34m\u001b[0m\u001b[0m\n\u001b[1;32m    573\u001b[0m         \u001b[0mv6\u001b[0m \u001b[0;34m=\u001b[0m \u001b[0mnp\u001b[0m\u001b[0;34m.\u001b[0m\u001b[0masarray\u001b[0m\u001b[0;34m(\u001b[0m\u001b[0ms\u001b[0m\u001b[0;34m[\u001b[0m\u001b[0;36m6\u001b[0m\u001b[0;34m]\u001b[0m\u001b[0;34m[\u001b[0m\u001b[0;36m0\u001b[0m\u001b[0;34m,\u001b[0m \u001b[0ml0\u001b[0m\u001b[0;34m:\u001b[0m \u001b[0ml1\u001b[0m\u001b[0;34m]\u001b[0m\u001b[0;34m)\u001b[0m\u001b[0;34m\u001b[0m\u001b[0;34m\u001b[0m\u001b[0m\n",
      "\u001b[0;32m_pydevd_bundle/pydevd_cython_darwin_37_64.pyx\u001b[0m in \u001b[0;36m_pydevd_bundle.pydevd_cython_darwin_37_64.ThreadTracer.__call__\u001b[0;34m()\u001b[0m\n",
      "\u001b[0;32m_pydevd_bundle/pydevd_cython_darwin_37_64.pyx\u001b[0m in \u001b[0;36m_pydevd_bundle.pydevd_cython_darwin_37_64.PyDBFrame.trace_dispatch\u001b[0;34m()\u001b[0m\n",
      "\u001b[0;32m_pydevd_bundle/pydevd_cython_darwin_37_64.pyx\u001b[0m in \u001b[0;36m_pydevd_bundle.pydevd_cython_darwin_37_64.PyDBFrame.trace_dispatch\u001b[0;34m()\u001b[0m\n",
      "\u001b[0;32m_pydevd_bundle/pydevd_cython_darwin_37_64.pyx\u001b[0m in \u001b[0;36m_pydevd_bundle.pydevd_cython_darwin_37_64.PyDBFrame.do_wait_suspend\u001b[0;34m()\u001b[0m\n",
      "\u001b[0;32m/Applications/PyCharm.app/Contents/plugins/python/helpers/pydev/pydevd.py\u001b[0m in \u001b[0;36mdo_wait_suspend\u001b[0;34m(self, thread, frame, event, arg, send_suspend_message, is_unhandled_exception)\u001b[0m\n\u001b[1;32m   1097\u001b[0m \u001b[0;34m\u001b[0m\u001b[0m\n\u001b[1;32m   1098\u001b[0m         \u001b[0;32mwith\u001b[0m \u001b[0mself\u001b[0m\u001b[0;34m.\u001b[0m\u001b[0m_threads_suspended_single_notification\u001b[0m\u001b[0;34m.\u001b[0m\u001b[0mnotify_thread_suspended\u001b[0m\u001b[0;34m(\u001b[0m\u001b[0mthread_id\u001b[0m\u001b[0;34m,\u001b[0m \u001b[0mstop_reason\u001b[0m\u001b[0;34m)\u001b[0m\u001b[0;34m:\u001b[0m\u001b[0;34m\u001b[0m\u001b[0;34m\u001b[0m\u001b[0m\n\u001b[0;32m-> 1099\u001b[0;31m             \u001b[0mself\u001b[0m\u001b[0;34m.\u001b[0m\u001b[0m_do_wait_suspend\u001b[0m\u001b[0;34m(\u001b[0m\u001b[0mthread\u001b[0m\u001b[0;34m,\u001b[0m \u001b[0mframe\u001b[0m\u001b[0;34m,\u001b[0m \u001b[0mevent\u001b[0m\u001b[0;34m,\u001b[0m \u001b[0marg\u001b[0m\u001b[0;34m,\u001b[0m \u001b[0msuspend_type\u001b[0m\u001b[0;34m,\u001b[0m \u001b[0mfrom_this_thread\u001b[0m\u001b[0;34m)\u001b[0m\u001b[0;34m\u001b[0m\u001b[0;34m\u001b[0m\u001b[0m\n\u001b[0m\u001b[1;32m   1100\u001b[0m \u001b[0;34m\u001b[0m\u001b[0m\n\u001b[1;32m   1101\u001b[0m     \u001b[0;32mdef\u001b[0m \u001b[0m_do_wait_suspend\u001b[0m\u001b[0;34m(\u001b[0m\u001b[0mself\u001b[0m\u001b[0;34m,\u001b[0m \u001b[0mthread\u001b[0m\u001b[0;34m,\u001b[0m \u001b[0mframe\u001b[0m\u001b[0;34m,\u001b[0m \u001b[0mevent\u001b[0m\u001b[0;34m,\u001b[0m \u001b[0marg\u001b[0m\u001b[0;34m,\u001b[0m \u001b[0msuspend_type\u001b[0m\u001b[0;34m,\u001b[0m \u001b[0mfrom_this_thread\u001b[0m\u001b[0;34m)\u001b[0m\u001b[0;34m:\u001b[0m\u001b[0;34m\u001b[0m\u001b[0;34m\u001b[0m\u001b[0m\n",
      "\u001b[0;32m/Applications/PyCharm.app/Contents/plugins/python/helpers/pydev/pydevd.py\u001b[0m in \u001b[0;36m_do_wait_suspend\u001b[0;34m(self, thread, frame, event, arg, suspend_type, from_this_thread)\u001b[0m\n\u001b[1;32m   1112\u001b[0m \u001b[0;34m\u001b[0m\u001b[0m\n\u001b[1;32m   1113\u001b[0m                 \u001b[0mself\u001b[0m\u001b[0;34m.\u001b[0m\u001b[0mprocess_internal_commands\u001b[0m\u001b[0;34m(\u001b[0m\u001b[0;34m)\u001b[0m\u001b[0;34m\u001b[0m\u001b[0;34m\u001b[0m\u001b[0m\n\u001b[0;32m-> 1114\u001b[0;31m                 \u001b[0mtime\u001b[0m\u001b[0;34m.\u001b[0m\u001b[0msleep\u001b[0m\u001b[0;34m(\u001b[0m\u001b[0;36m0.01\u001b[0m\u001b[0;34m)\u001b[0m\u001b[0;34m\u001b[0m\u001b[0;34m\u001b[0m\u001b[0m\n\u001b[0m\u001b[1;32m   1115\u001b[0m \u001b[0;34m\u001b[0m\u001b[0m\n\u001b[1;32m   1116\u001b[0m         \u001b[0mself\u001b[0m\u001b[0;34m.\u001b[0m\u001b[0mcancel_async_evaluation\u001b[0m\u001b[0;34m(\u001b[0m\u001b[0mget_current_thread_id\u001b[0m\u001b[0;34m(\u001b[0m\u001b[0mthread\u001b[0m\u001b[0;34m)\u001b[0m\u001b[0;34m,\u001b[0m \u001b[0mstr\u001b[0m\u001b[0;34m(\u001b[0m\u001b[0mid\u001b[0m\u001b[0;34m(\u001b[0m\u001b[0mframe\u001b[0m\u001b[0;34m)\u001b[0m\u001b[0;34m)\u001b[0m\u001b[0;34m)\u001b[0m\u001b[0;34m\u001b[0m\u001b[0;34m\u001b[0m\u001b[0m\n",
      "\u001b[0;31mKeyboardInterrupt\u001b[0m: "
     ],
     "ename": "KeyboardInterrupt",
     "evalue": "",
     "output_type": "error"
    }
   ],
   "source": [
    "x = gp.set_sub_grid_solutions_to_regular_grid(geo_data, combined_solution, combined_grid, sub_grids_and_solutions);"
   ]
  },
  {
   "cell_type": "code",
   "execution_count": null,
   "metadata": {
    "pycharm": {
     "is_executing": false
    }
   },
   "outputs": [],
   "source": [
    "geo_data.solutions.lith_block.shape"
   ]
  },
  {
   "cell_type": "markdown",
   "metadata": {},
   "source": [
    "Displaying the result in x and y direction:"
   ]
  },
  {
   "cell_type": "code",
   "execution_count": null,
   "metadata": {
    "scrolled": false,
    "pycharm": {
     "is_executing": false
    }
   },
   "outputs": [],
   "source": [
    "%matplotlib inline\n",
    "gp.plot.plot_section(geo_data, cell_number=10,\n",
    "                         direction='x', show_all_data=True)"
   ]
  },
  {
   "cell_type": "code",
   "execution_count": null,
   "metadata": {
    "pycharm": {
     "is_executing": false,
     "name": "#%%\n"
    }
   },
   "outputs": [],
   "source": [
    "%matplotlib inline\n",
    "gp.plot.plot_section(geo_data, cell_number=5,\n",
    "                    direction='y', show_data=True)\n"
   ]
  }
 ],
 "metadata": {
  "@webio": {
   "lastCommId": null,
   "lastKernelId": null
  },
  "kernelspec": {
   "display_name": "gempy3",
   "language": "python",
   "name": "gempy3"
  },
  "language_info": {
   "codemirror_mode": {
    "name": "ipython",
    "version": 3
   },
   "file_extension": ".py",
   "mimetype": "text/x-python",
   "name": "python",
   "nbconvert_exporter": "python",
   "pygments_lexer": "ipython3",
   "version": "3.7.3"
  },
  "pycharm": {
   "stem_cell": {
    "cell_type": "raw",
    "source": [],
    "metadata": {
     "collapsed": false
    }
   }
  }
 },
 "nbformat": 4,
 "nbformat_minor": 2
}