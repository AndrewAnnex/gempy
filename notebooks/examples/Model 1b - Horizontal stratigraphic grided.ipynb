{
 "cells": [
  {
   "cell_type": "markdown",
   "metadata": {},
   "source": [
    "# Model 1b - Horizontal stratigraphic gridded"
   ]
  },
  {
   "cell_type": "markdown",
   "metadata": {},
   "source": [
    "This is the most simpel model of horizontally stacked layers and we will use a bunch of subgrids. We start by importing the necessary dependencies:"
   ]
  },
  {
   "cell_type": "code",
   "execution_count": 1,
   "metadata": {
    "pycharm": {
     "is_executing": false
    }
   },
   "outputs": [],
   "source": [
    "# These two lines are necessary only if GemPy is not installed\n",
    "import sys, os\n",
    "#sys.path.append(\"../..\")\n",
    "os.environ[\"THEANO_FLAGS\"] = \"mode=FAST_RUN,device=cpu\"\n",
    "\n",
    "# Importing GemPy\n",
    "import gempy as gp\n",
    "\n",
    "# Embedding matplotlib figures in the notebooks\n",
    "%matplotlib inline\n",
    "\n",
    "# Importing auxiliary libraries\n",
    "import numpy as np\n",
    "import xarray as xr\n",
    "import matplotlib.pyplot as plt"
   ]
  },
  {
   "cell_type": "markdown",
   "metadata": {},
   "source": [
    "Creating the model by importing the input data and displaying it:"
   ]
  },
  {
   "cell_type": "code",
   "execution_count": 2,
   "metadata": {
    "scrolled": false,
    "pycharm": {
     "is_executing": false
    }
   },
   "outputs": [
    {
     "name": "stdout",
     "text": [
      "Active grids: ['regular']\n"
     ],
     "output_type": "stream"
    }
   ],
   "source": [
    "geo_data = gp.create_data([0,1000,0,1000,0,1000],resolution=[50,50,50], \n",
    "                        path_o = os.pardir+\"/data/input_data/jan_models/model1_orientations.csv\",\n",
    "                        path_i = os.pardir+\"/data/input_data/jan_models/model1_surface_points.csv\") "
   ]
  },
  {
   "cell_type": "markdown",
   "metadata": {},
   "source": [
    "Setting and ordering the units and series:"
   ]
  },
  {
   "cell_type": "code",
   "execution_count": 3,
   "metadata": {
    "pycharm": {
     "is_executing": false
    }
   },
   "outputs": [
    {
     "data": {
      "text/plain": "    surface           series  order_surfaces  isBasement    color vertices edges  id\n0     rock2     Strat_Series               1       False  #015482      NaN   NaN   1\n1     rock1     Strat_Series               2       False  #9f0052      NaN   NaN   2\n2  basement  Basement_Series               1        True  #ffbe00      NaN   NaN   3",
      "text/html": "<style  type=\"text/css\" >\n    #T_0dc9fb86_3cce_11ea_a3dd_dca904930d3brow0_col4 {\n            background-color:  #015482;\n        }    #T_0dc9fb86_3cce_11ea_a3dd_dca904930d3brow1_col4 {\n            background-color:  #9f0052;\n        }    #T_0dc9fb86_3cce_11ea_a3dd_dca904930d3brow2_col4 {\n            background-color:  #ffbe00;\n        }</style><table id=\"T_0dc9fb86_3cce_11ea_a3dd_dca904930d3b\" ><thead>    <tr>        <th class=\"blank level0\" ></th>        <th class=\"col_heading level0 col0\" >surface</th>        <th class=\"col_heading level0 col1\" >series</th>        <th class=\"col_heading level0 col2\" >order_surfaces</th>        <th class=\"col_heading level0 col3\" >isBasement</th>        <th class=\"col_heading level0 col4\" >color</th>        <th class=\"col_heading level0 col5\" >id</th>    </tr></thead><tbody>\n                <tr>\n                        <th id=\"T_0dc9fb86_3cce_11ea_a3dd_dca904930d3blevel0_row0\" class=\"row_heading level0 row0\" >0</th>\n                        <td id=\"T_0dc9fb86_3cce_11ea_a3dd_dca904930d3brow0_col0\" class=\"data row0 col0\" >rock2</td>\n                        <td id=\"T_0dc9fb86_3cce_11ea_a3dd_dca904930d3brow0_col1\" class=\"data row0 col1\" >Strat_Series</td>\n                        <td id=\"T_0dc9fb86_3cce_11ea_a3dd_dca904930d3brow0_col2\" class=\"data row0 col2\" >1</td>\n                        <td id=\"T_0dc9fb86_3cce_11ea_a3dd_dca904930d3brow0_col3\" class=\"data row0 col3\" >False</td>\n                        <td id=\"T_0dc9fb86_3cce_11ea_a3dd_dca904930d3brow0_col4\" class=\"data row0 col4\" >#015482</td>\n                        <td id=\"T_0dc9fb86_3cce_11ea_a3dd_dca904930d3brow0_col5\" class=\"data row0 col5\" >1</td>\n            </tr>\n            <tr>\n                        <th id=\"T_0dc9fb86_3cce_11ea_a3dd_dca904930d3blevel0_row1\" class=\"row_heading level0 row1\" >1</th>\n                        <td id=\"T_0dc9fb86_3cce_11ea_a3dd_dca904930d3brow1_col0\" class=\"data row1 col0\" >rock1</td>\n                        <td id=\"T_0dc9fb86_3cce_11ea_a3dd_dca904930d3brow1_col1\" class=\"data row1 col1\" >Strat_Series</td>\n                        <td id=\"T_0dc9fb86_3cce_11ea_a3dd_dca904930d3brow1_col2\" class=\"data row1 col2\" >2</td>\n                        <td id=\"T_0dc9fb86_3cce_11ea_a3dd_dca904930d3brow1_col3\" class=\"data row1 col3\" >False</td>\n                        <td id=\"T_0dc9fb86_3cce_11ea_a3dd_dca904930d3brow1_col4\" class=\"data row1 col4\" >#9f0052</td>\n                        <td id=\"T_0dc9fb86_3cce_11ea_a3dd_dca904930d3brow1_col5\" class=\"data row1 col5\" >2</td>\n            </tr>\n            <tr>\n                        <th id=\"T_0dc9fb86_3cce_11ea_a3dd_dca904930d3blevel0_row2\" class=\"row_heading level0 row2\" >2</th>\n                        <td id=\"T_0dc9fb86_3cce_11ea_a3dd_dca904930d3brow2_col0\" class=\"data row2 col0\" >basement</td>\n                        <td id=\"T_0dc9fb86_3cce_11ea_a3dd_dca904930d3brow2_col1\" class=\"data row2 col1\" >Basement_Series</td>\n                        <td id=\"T_0dc9fb86_3cce_11ea_a3dd_dca904930d3brow2_col2\" class=\"data row2 col2\" >1</td>\n                        <td id=\"T_0dc9fb86_3cce_11ea_a3dd_dca904930d3brow2_col3\" class=\"data row2 col3\" >True</td>\n                        <td id=\"T_0dc9fb86_3cce_11ea_a3dd_dca904930d3brow2_col4\" class=\"data row2 col4\" >#ffbe00</td>\n                        <td id=\"T_0dc9fb86_3cce_11ea_a3dd_dca904930d3brow2_col5\" class=\"data row2 col5\" >3</td>\n            </tr>\n    </tbody></table>"
     },
     "metadata": {},
     "output_type": "execute_result",
     "execution_count": 3
    }
   ],
   "source": [
    "gp.map_series_to_surfaces(geo_data, {\"Strat_Series\": ('rock2','rock1'),\"Basement_Series\":('basement')})"
   ]
  },
  {
   "cell_type": "code",
   "execution_count": 4,
   "metadata": {
    "pycharm": {
     "is_executing": false
    }
   },
   "outputs": [
    {
     "data": {
      "text/plain": "<gempy.plot.visualization_2d.PlotData2D at 0x140534b38>"
     },
     "metadata": {},
     "output_type": "execute_result",
     "execution_count": 4
    },
    {
     "data": {
      "text/plain": "<Figure size 432x432 with 1 Axes>",
      "image/png": "[encoded data removed]"
     },
     "metadata": {
      "needs_background": "light"
     },
     "output_type": "display_data"
    }
   ],
   "source": [
    "%matplotlib inline\n",
    "gp.plot.plot_data(geo_data, direction='y')"
   ]
  },
  {
   "cell_type": "markdown",
   "metadata": {},
   "source": [
    "Calculating the model:"
   ]
  },
  {
   "cell_type": "code",
   "execution_count": 5,
   "metadata": {
    "scrolled": false,
    "pycharm": {
     "is_executing": false
    }
   },
   "outputs": [
    {
     "name": "stdout",
     "text": [
      "Compiling theano function...\n",
      "Level of Optimization:  fast_run\n",
      "Device:  cpu\n",
      "Precision:  float64\n",
      "Number of faults:  0\n",
      "Compilation Done!\n"
     ],
     "output_type": "stream"
    },
    {
     "name": "stderr",
     "text": [
      "/Users/andrew/anaconda3/envs/gempy3/lib/python3.7/site-packages/theano/gof/cc.py:968: UserWarning: Your g++ compiler fails to compile OpenMP code. We know this happen with some version of the EPD mingw compiler and LLVM compiler on Mac OS X. We disable openmp everywhere in Theano. To remove this warning set the theano flags `openmp` to False.\n",
      "  ret += x.c_compile_args()\n"
     ],
     "output_type": "stream"
    }
   ],
   "source": [
    "interp_data = gp.set_interpolation_data(geo_data, compile_theano=True,\n",
    "                                        theano_optimizer='fast_run')"
   ]
  },
  {
   "cell_type": "markdown",
   "source": [
    "First create a combined grid of the total size we want to compute, and create the solution object"
   ],
   "metadata": {
    "collapsed": false
   }
  },
  {
   "cell_type": "code",
   "execution_count": 6,
   "metadata": {
    "pycharm": {
     "is_executing": false
    }
   },
   "outputs": [],
   "source": [
    "combined_grid = gp.core.data.Grid()\n",
    "combined_regular_grid = combined_grid.set_regular_grid(extent=[0, 1000, 0, 1000, 0, 1000], resolution=[100,100,100])\n",
    "combined_solution = gp.core.model.Solution(grid=combined_grid, surfaces=geo_data.surfaces, series=geo_data.series)"
   ]
  },
  {
   "cell_type": "markdown",
   "source": [
    "Next, create the sub-grid objects, here we are asking for 2 divisons on the X, Y, Z axes.\n",
    "This should result in 8 sub-grids extents and resolutions."
   ],
   "metadata": {
    "collapsed": false
   }
  },
  {
   "cell_type": "code",
   "execution_count": 7,
   "metadata": {
    "pycharm": {
     "is_executing": false
    }
   },
   "outputs": [],
   "source": [
    "grids = gp.grid_types.define_subgrid_parameters(combined_grid, 2, 2, 2)"
   ]
  },
  {
   "cell_type": "code",
   "execution_count": 8,
   "metadata": {
    "pycharm": {
     "is_executing": false
    }
   },
   "outputs": [
    {
     "name": "stdout",
     "text": [
      "8\n",
      "([0.0, 500.0, 0.0, 500.0, 0.0, 500.0], [50, 50, 50])\n"
     ],
     "output_type": "stream"
    }
   ],
   "source": [
    "# should be 8\n",
    "print(len(grids))\n",
    "print(grids[0])"
   ]
  },
  {
   "cell_type": "markdown",
   "source": [
    "We now have a list of the extents and resolutions of the sub grids.\n",
    "Now compute the model, ie do the 'fit'. "
   ],
   "metadata": {
    "collapsed": false,
    "pycharm": {
     "name": "#%% md\n"
    }
   }
  },
  {
   "cell_type": "code",
   "execution_count": 9,
   "outputs": [
    {
     "data": {
      "text/plain": "[array([[3. , 3. , 3. , ..., 2.5, 2.5, 2.5]]),\n array([[[3. , 3. , 3. , ..., 2.5, 2.5, 2.5]]]),\n array([-8.41082564e-21, -2.83078639e-22,  2.21803385e-21, -1.64720997e-20,\n        -6.92823608e-22, -4.63131647e-22, -1.09375087e-20, -1.60558875e-20,\n         7.52766533e-20, -9.65470265e-21, -1.54362860e-20,  2.38839349e-20,\n         1.26225423e-20, -7.83942694e-20, -9.55642672e-22, -1.53673689e-20,\n        -4.16384676e-18, -2.44959093e-18,  1.00000000e+00]),\n array([[0.3877, 0.4127, 0.4377, ..., 0.8752, 0.8752, 0.8752]]),\n array([[1.1252, 0.8752]]),\n array([[ True,  True,  True, ...,  True,  True,  True]])]"
     },
     "metadata": {},
     "output_type": "execute_result",
     "execution_count": 9
    }
   ],
   "source": [
    "gp.compute_model(geo_data, set_solutions=False, compute_mesh=False) "
   ],
   "metadata": {
    "collapsed": false,
    "pycharm": {
     "name": "#%% \n",
     "is_executing": false
    }
   }
  },
  {
   "cell_type": "markdown",
   "source": [
    "now that we have computed the model we can now 'evaluate' the model at our sub-grids"
   ],
   "metadata": {
    "collapsed": false,
    "pycharm": {
     "name": "#%% md\n"
    }
   }
  },
  {
   "cell_type": "code",
   "execution_count": 10,
   "metadata": {
    "pycharm": {
     "is_executing": false
    }
   },
   "outputs": [
    {
     "name": "stdout",
     "text": [
      "Active grids: ['regular']\n",
      "Active grids: ['regular']\n",
      "Active grids: ['regular']\n",
      "Active grids: ['regular']\n",
      "Active grids: ['regular']\n",
      "Active grids: ['regular']\n",
      "Active grids: ['regular']\n",
      "Active grids: ['regular']\n"
     ],
     "output_type": "stream"
    }
   ],
   "source": [
    "sub_grids_and_solutions = []\n",
    "for extent, res in grids:\n",
    "    grid = gp.core.data.Grid()\n",
    "    grid.set_regular_grid(extent=extent, resolution=res)\n",
    "    geo_data.set_regular_grid(extent, res)\n",
    "    sol = gp.compute_model(geo_data, output='geology', compute_mesh=False, set_solutions=False, \n",
    "                           reset_scalar=False, reset_block=False, reset_weights=False)\n",
    "    sub_grids_and_solutions.append((grid,sol))"
   ]
  },
  {
   "cell_type": "code",
   "execution_count": 11,
   "metadata": {
    "pycharm": {
     "is_executing": false
    }
   },
   "outputs": [
    {
     "name": "stderr",
     "text": [
      "/Users/andrew/PycharmProjects/gempy/gempy/core/solution.py:260: UserWarning: Attribute error. Using non masked marching cubesmarching_cubes_lewiner() got an unexpected keyword argument 'mask'.\n",
      "  warnings.warn('Attribute error. Using non masked marching cubes' + str(e)+'.')\n"
     ],
     "output_type": "stream"
    }
   ],
   "source": [
    "x = gp.set_sub_grid_solutions_to_regular_grid(geo_data, combined_solution, combined_grid, sub_grids_and_solutions);"
   ]
  },
  {
   "cell_type": "code",
   "execution_count": 12,
   "metadata": {
    "pycharm": {
     "is_executing": false
    }
   },
   "outputs": [
    {
     "data": {
      "text/plain": "(1000000,)"
     },
     "metadata": {},
     "output_type": "execute_result",
     "execution_count": 12
    }
   ],
   "source": [
    "geo_data.solutions.lith_block.shape"
   ]
  },
  {
   "cell_type": "markdown",
   "metadata": {},
   "source": [
    "Displaying the result in x and y direction:"
   ]
  },
  {
   "cell_type": "code",
   "execution_count": 13,
   "metadata": {
    "scrolled": false,
    "pycharm": {
     "is_executing": false
    }
   },
   "outputs": [
    {
     "data": {
      "text/plain": "<gempy.plot.visualization_2d.PlotSolution at 0x10c925ac8>"
     },
     "metadata": {},
     "output_type": "execute_result",
     "execution_count": 13
    },
    {
     "data": {
      "text/plain": "<Figure size 432x432 with 1 Axes>",
      "image/png": "[encoded data removed]"
     },
     "metadata": {
      "needs_background": "light"
     },
     "output_type": "display_data"
    }
   ],
   "source": [
    "%matplotlib inline\n",
    "gp.plot.plot_section(geo_data, cell_number=10,\n",
    "                         direction='x', show_all_data=True)"
   ]
  },
  {
   "cell_type": "code",
   "execution_count": 14,
   "metadata": {
    "pycharm": {
     "is_executing": false,
     "name": "#%%\n"
    }
   },
   "outputs": [
    {
     "data": {
      "text/plain": "<gempy.plot.visualization_2d.PlotSolution at 0x10c944978>"
     },
     "metadata": {},
     "output_type": "execute_result",
     "execution_count": 14
    },
    {
     "data": {
      "text/plain": "<Figure size 432x288 with 1 Axes>",
      "image/png": "[encoded data removed]"
     },
     "metadata": {
      "needs_background": "light"
     },
     "output_type": "display_data"
    }
   ],
   "source": [
    "%matplotlib inline\n",
    "gp.plot.plot_section(geo_data, cell_number=5,\n",
    "                    direction='y', show_data=True)\n"
   ]
  }
 ],
 "metadata": {
  "@webio": {
   "lastCommId": null,
   "lastKernelId": null
  },
  "kernelspec": {
   "display_name": "gempy3",
   "language": "python",
   "name": "gempy3"
  },
  "language_info": {
   "codemirror_mode": {
    "name": "ipython",
    "version": 3
   },
   "file_extension": ".py",
   "mimetype": "text/x-python",
   "name": "python",
   "nbconvert_exporter": "python",
   "pygments_lexer": "ipython3",
   "version": "3.7.3"
  },
  "pycharm": {
   "stem_cell": {
    "cell_type": "raw",
    "source": [],
    "metadata": {
     "collapsed": false
    }
   }
  }
 },
 "nbformat": 4,
 "nbformat_minor": 2
}