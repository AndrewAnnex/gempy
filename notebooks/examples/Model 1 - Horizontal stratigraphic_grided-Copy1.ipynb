{
 "cells": [
  {
   "cell_type": "markdown",
   "metadata": {},
   "source": [
    "# Model 1 - Horizontal stratigraphic"
   ]
  },
  {
   "cell_type": "markdown",
   "metadata": {},
   "source": [
    "This is the most simpel model of horizontally stacked layers. We start by importing the necessary dependencies:"
   ]
  },
  {
   "cell_type": "code",
   "execution_count": 1,
   "metadata": {},
   "outputs": [],
   "source": [
    "# These two lines are necessary only if GemPy is not installed\n",
    "import sys, os\n",
    "#sys.path.append(\"../..\")\n",
    "os.environ[\"THEANO_FLAGS\"] = \"mode=FAST_RUN,device=cpu\"\n",
    "\n",
    "# Importing GemPy\n",
    "import gempy as gp\n",
    "\n",
    "# Embedding matplotlib figures in the notebooks\n",
    "%matplotlib inline\n",
    "\n",
    "# Importing auxiliary libraries\n",
    "import numpy as np\n",
    "import xarray as xr\n",
    "import matplotlib.pyplot as plt"
   ]
  },
  {
   "cell_type": "markdown",
   "metadata": {},
   "source": [
    "Creating the model by importing the input data and displaying it:"
   ]
  },
  {
   "cell_type": "code",
   "execution_count": 2,
   "metadata": {
    "scrolled": false
   },
   "outputs": [
    {
     "name": "stdout",
     "output_type": "stream",
     "text": [
      "Active grids: ['regular']\n"
     ]
    }
   ],
   "source": [
    "geo_data = gp.create_data([0,1000,0,1000,0,1000],resolution=[50,50,50], \n",
    "                        path_o = os.pardir+\"/data/input_data/jan_models/model1_orientations.csv\",\n",
    "                        path_i = os.pardir+\"/data/input_data/jan_models/model1_surface_points.csv\") "
   ]
  },
  {
   "cell_type": "markdown",
   "metadata": {},
   "source": [
    "Setting and ordering the units and series:"
   ]
  },
  {
   "cell_type": "code",
   "execution_count": 3,
   "metadata": {},
   "outputs": [
    {
     "data": {
      "text/html": [
       "<style  type=\"text/css\" >\n",
       "    #T_e4dd78ae_2dd4_11ea_b714_dca904930d3brow0_col4 {\n",
       "            background-color:  #015482;\n",
       "        }    #T_e4dd78ae_2dd4_11ea_b714_dca904930d3brow1_col4 {\n",
       "            background-color:  #9f0052;\n",
       "        }    #T_e4dd78ae_2dd4_11ea_b714_dca904930d3brow2_col4 {\n",
       "            background-color:  #ffbe00;\n",
       "        }</style><table id=\"T_e4dd78ae_2dd4_11ea_b714_dca904930d3b\" ><thead>    <tr>        <th class=\"blank level0\" ></th>        <th class=\"col_heading level0 col0\" >surface</th>        <th class=\"col_heading level0 col1\" >series</th>        <th class=\"col_heading level0 col2\" >order_surfaces</th>        <th class=\"col_heading level0 col3\" >isBasement</th>        <th class=\"col_heading level0 col4\" >color</th>        <th class=\"col_heading level0 col5\" >id</th>    </tr></thead><tbody>\n",
       "                <tr>\n",
       "                        <th id=\"T_e4dd78ae_2dd4_11ea_b714_dca904930d3blevel0_row0\" class=\"row_heading level0 row0\" >0</th>\n",
       "                        <td id=\"T_e4dd78ae_2dd4_11ea_b714_dca904930d3brow0_col0\" class=\"data row0 col0\" >rock2</td>\n",
       "                        <td id=\"T_e4dd78ae_2dd4_11ea_b714_dca904930d3brow0_col1\" class=\"data row0 col1\" >Strat_Series</td>\n",
       "                        <td id=\"T_e4dd78ae_2dd4_11ea_b714_dca904930d3brow0_col2\" class=\"data row0 col2\" >1</td>\n",
       "                        <td id=\"T_e4dd78ae_2dd4_11ea_b714_dca904930d3brow0_col3\" class=\"data row0 col3\" >False</td>\n",
       "                        <td id=\"T_e4dd78ae_2dd4_11ea_b714_dca904930d3brow0_col4\" class=\"data row0 col4\" >#015482</td>\n",
       "                        <td id=\"T_e4dd78ae_2dd4_11ea_b714_dca904930d3brow0_col5\" class=\"data row0 col5\" >1</td>\n",
       "            </tr>\n",
       "            <tr>\n",
       "                        <th id=\"T_e4dd78ae_2dd4_11ea_b714_dca904930d3blevel0_row1\" class=\"row_heading level0 row1\" >1</th>\n",
       "                        <td id=\"T_e4dd78ae_2dd4_11ea_b714_dca904930d3brow1_col0\" class=\"data row1 col0\" >rock1</td>\n",
       "                        <td id=\"T_e4dd78ae_2dd4_11ea_b714_dca904930d3brow1_col1\" class=\"data row1 col1\" >Strat_Series</td>\n",
       "                        <td id=\"T_e4dd78ae_2dd4_11ea_b714_dca904930d3brow1_col2\" class=\"data row1 col2\" >2</td>\n",
       "                        <td id=\"T_e4dd78ae_2dd4_11ea_b714_dca904930d3brow1_col3\" class=\"data row1 col3\" >False</td>\n",
       "                        <td id=\"T_e4dd78ae_2dd4_11ea_b714_dca904930d3brow1_col4\" class=\"data row1 col4\" >#9f0052</td>\n",
       "                        <td id=\"T_e4dd78ae_2dd4_11ea_b714_dca904930d3brow1_col5\" class=\"data row1 col5\" >2</td>\n",
       "            </tr>\n",
       "            <tr>\n",
       "                        <th id=\"T_e4dd78ae_2dd4_11ea_b714_dca904930d3blevel0_row2\" class=\"row_heading level0 row2\" >2</th>\n",
       "                        <td id=\"T_e4dd78ae_2dd4_11ea_b714_dca904930d3brow2_col0\" class=\"data row2 col0\" >basement</td>\n",
       "                        <td id=\"T_e4dd78ae_2dd4_11ea_b714_dca904930d3brow2_col1\" class=\"data row2 col1\" >Basement_Series</td>\n",
       "                        <td id=\"T_e4dd78ae_2dd4_11ea_b714_dca904930d3brow2_col2\" class=\"data row2 col2\" >1</td>\n",
       "                        <td id=\"T_e4dd78ae_2dd4_11ea_b714_dca904930d3brow2_col3\" class=\"data row2 col3\" >True</td>\n",
       "                        <td id=\"T_e4dd78ae_2dd4_11ea_b714_dca904930d3brow2_col4\" class=\"data row2 col4\" >#ffbe00</td>\n",
       "                        <td id=\"T_e4dd78ae_2dd4_11ea_b714_dca904930d3brow2_col5\" class=\"data row2 col5\" >3</td>\n",
       "            </tr>\n",
       "    </tbody></table>"
      ],
      "text/plain": [
       "    surface           series  order_surfaces  isBasement    color vertices edges  id\n",
       "0     rock2     Strat_Series               1       False  #015482      NaN   NaN   1\n",
       "1     rock1     Strat_Series               2       False  #9f0052      NaN   NaN   2\n",
       "2  basement  Basement_Series               1        True  #ffbe00      NaN   NaN   3"
      ]
     },
     "execution_count": 3,
     "metadata": {},
     "output_type": "execute_result"
    }
   ],
   "source": [
    "gp.map_series_to_surfaces(geo_data, {\"Strat_Series\": ('rock2','rock1'),\"Basement_Series\":('basement')})"
   ]
  },
  {
   "cell_type": "code",
   "execution_count": 4,
   "metadata": {},
   "outputs": [
    {
     "data": {
      "text/plain": [
       "<gempy.plot.visualization_2d.PlotData2D at 0x13a5f9eb8>"
      ]
     },
     "execution_count": 4,
     "metadata": {},
     "output_type": "execute_result"
    },
    {
     "data": {
      "image/png": "[encoded data removed]",
      "text/plain": [
       "<Figure size 432x432 with 1 Axes>"
      ]
     },
     "metadata": {
      "needs_background": "light"
     },
     "output_type": "display_data"
    }
   ],
   "source": [
    "%matplotlib inline\n",
    "gp.plot.plot_data(geo_data, direction='y')"
   ]
  },
  {
   "cell_type": "markdown",
   "metadata": {},
   "source": [
    "Calculating the model:"
   ]
  },
  {
   "cell_type": "code",
   "execution_count": 5,
   "metadata": {
    "scrolled": false
   },
   "outputs": [
    {
     "name": "stdout",
     "output_type": "stream",
     "text": [
      "Compiling theano function...\n"
     ]
    },
    {
     "name": "stderr",
     "output_type": "stream",
     "text": [
      "/Users/andrew/anaconda3/envs/gempy3/lib/python3.7/site-packages/theano/gof/cc.py:968: UserWarning: Your g++ compiler fails to compile OpenMP code. We know this happen with some version of the EPD mingw compiler and LLVM compiler on Mac OS X. We disable openmp everywhere in Theano. To remove this warning set the theano flags `openmp` to False.\n",
      "  ret += x.c_compile_args()\n"
     ]
    },
    {
     "name": "stdout",
     "output_type": "stream",
     "text": [
      "Level of Optimization:  fast_run\n",
      "Device:  cpu\n",
      "Precision:  float64\n",
      "Number of faults:  0\n",
      "Compilation Done!\n"
     ]
    }
   ],
   "source": [
    "interp_data = gp.set_interpolation_data(geo_data, compile_theano=True,\n",
    "                                        theano_optimizer='fast_run')"
   ]
  },
  {
   "cell_type": "code",
   "execution_count": 6,
   "metadata": {},
   "outputs": [],
   "source": [
    "combined_grid = gp.core.data.Grid()\n",
    "combined_regular_grid = combined_grid.set_regular_grid(extent=[0, 1000, 0, 1000, 0, 1000], resolution=[100,100,50])\n",
    "combined_solution = gp.core.model.Solution(grid=combined_grid, surfaces=geo_data.surfaces, series=geo_data.series)"
   ]
  },
  {
   "cell_type": "code",
   "execution_count": 7,
   "metadata": {},
   "outputs": [],
   "source": [
    "def define_subgrids(grid, n):\n",
    "    \"\"\"\n",
    "    Given a gempy grid, define n by n sub grids that split the grid on the x and y extent\n",
    "    \"\"\"\n",
    "    grid_resolution = grid.regular_grid.resolution\n",
    "    grid_extent = grid.regular_grid.extent\n",
    "    minx, miny, minz = grid_extent[0::2]\n",
    "    maxx, maxy, maxz = grid_extent[1::2]\n",
    "    newxres = grid_resolution[0] // n\n",
    "    newyres = grid_resolution[1] // n\n",
    "    x_step = (maxx-minx) // n\n",
    "    y_step = (maxy-miny) // n\n",
    "    results = []\n",
    "    for x in np.arange(minx, maxx, x_step):\n",
    "        for y in np.arange(miny, maxy, y_step):\n",
    "            results.append(([x, x+x_step, y, y+y_step, minz, maxz], [newxres, newyres, grid_resolution[-1]]))\n",
    "    return results\n",
    "    "
   ]
  },
  {
   "cell_type": "code",
   "execution_count": 8,
   "metadata": {},
   "outputs": [],
   "source": [
    "grids = define_subgrids(combined_grid, 2)"
   ]
  },
  {
   "cell_type": "code",
   "execution_count": 9,
   "metadata": {},
   "outputs": [
    {
     "data": {
      "text/plain": [
       "[([0.0, 500.0, 0.0, 500.0, 0.0, 1000.0], [50, 50, 50]),\n",
       " ([0.0, 500.0, 500.0, 1000.0, 0.0, 1000.0], [50, 50, 50]),\n",
       " ([500.0, 1000.0, 0.0, 500.0, 0.0, 1000.0], [50, 50, 50]),\n",
       " ([500.0, 1000.0, 500.0, 1000.0, 0.0, 1000.0], [50, 50, 50])]"
      ]
     },
     "execution_count": 9,
     "metadata": {},
     "output_type": "execute_result"
    }
   ],
   "source": [
    "grids"
   ]
  },
  {
   "cell_type": "code",
   "execution_count": 10,
   "metadata": {},
   "outputs": [
    {
     "name": "stderr",
     "output_type": "stream",
     "text": [
      "/Users/andrew/PycharmProjects/gempy/gempy/core/solution.py:260: UserWarning: Attribute error. Using non masked marching cubesmarching_cubes_lewiner() got an unexpected keyword argument 'mask'.\n",
      "  warnings.warn('Attribute error. Using non masked marching cubes' + str(e)+'.')\n"
     ]
    },
    {
     "name": "stdout",
     "output_type": "stream",
     "text": [
      "Active grids: ['regular']\n",
      "Active grids: ['regular']\n",
      "Active grids: ['regular']\n",
      "Active grids: ['regular']\n"
     ]
    }
   ],
   "source": [
    "solutions = []\n",
    "#grids = [[0,1000,0,500,0,1000],[0,1000,500,1000,0,1000]]\n",
    "gp.compute_model(geo_data) # Todo remove?\n",
    "for extent, res in grids:\n",
    "    grid = gp.core.data.Grid()\n",
    "    grid.set_regular_grid(extent=extent, resolution=res)\n",
    "    geo_data.set_regular_grid(extent, res)\n",
    "    sol = gp.compute_model(geo_data, output='geology', compute_mesh=False, set_solutions=False, \n",
    "                           reset_scalar=False, reset_block=False, reset_weights=False)\n",
    "    solutions.append((extent,grid,sol))\n",
    "    "
   ]
  },
  {
   "cell_type": "code",
   "execution_count": 80,
   "metadata": {},
   "outputs": [],
   "source": [
    "def update_xarray_grid(target, grid, values):\n",
    "    v = grid.regular_grid.values.T\n",
    "    c = {'x': np.unique(v[0]), \n",
    "         'y': np.unique(v[1]), \n",
    "         'z': np.unique(v[2])}\n",
    "    target.loc[c] = values.reshape(grid.regular_grid.resolution)\n",
    "\n",
    "def do_combine_grids(target_grid, solutions):\n",
    "    extent = target_grid.regular_grid.extent\n",
    "    res = target_grid.regular_grid.resolution\n",
    "    v = target_grid.regular_grid.values.T\n",
    "    c = {'x': np.unique(v[0]), 'y': np.unique(v[1]), 'z': np.unique(v[2])}\n",
    "    v0_target = xr.DataArray(np.zeros(res), coords=c, dims=['x','y','z'])\n",
    "    v1_target = xr.DataArray(np.zeros(res), coords=c, dims=['x','y','z'])\n",
    "    v3_target = xr.DataArray(np.zeros(res), coords=c, dims=['x','y','z'])\n",
    "    v5_target = xr.DataArray(np.zeros(res), coords=c, dims=['x','y','z'])\n",
    "    # make big loop\n",
    "    vals = [[], [], [], [], [], []]\n",
    "    val_tails = [[], [], [], []]\n",
    "    for _, g, s in solutions:\n",
    "        vv = g.regular_grid.values.T\n",
    "        l0, l1 = g.get_grid_args('regular')\n",
    "        x_l = g.length[-1]\n",
    "        # extract values we need\n",
    "        v0 = np.asarray(s[0][0, l0: l1])\n",
    "        v1 = np.asarray(s[1][0, 0, l0: l1])\n",
    "        v3 = np.asarray(s[3][0, l0: l1])\n",
    "        v5 = np.asarray(s[5][0, l0: l1])\n",
    "        # assign the xarray using the coordinates of the grid\n",
    "        update_xarray_grid(v0_target, g, v0)\n",
    "        update_xarray_grid(v1_target, g, v1)\n",
    "        update_xarray_grid(v3_target, g, v3)\n",
    "        update_xarray_grid(v5_target, g, v5)\n",
    "        # update vals accumulation\n",
    "        vals[2].append(s[2])\n",
    "        vals[4].append(s[4])\n",
    "        # update tails for lack of a better term\n",
    "        val_tails[0].append(s[0][:, x_l:].ravel())\n",
    "        val_tails[1].append(s[1][:,:, x_l:].ravel())\n",
    "        val_tails[2].append(s[3][:, x_l:].ravel())\n",
    "        val_tails[3].append(s[5][:, x_l:].ravel())\n",
    "    # combine tails\n",
    "    for i, tail in enumerate(val_tails):\n",
    "        dtype = tail[0].dtype\n",
    "        val_tails[i] = np.mean(tail,axis=0)\n",
    "        if dtype == np.bool:\n",
    "            val_tails[i] = val_tails[i].astype(bool)\n",
    "    \n",
    "    vals[0] = np.concatenate((v0_target.values.ravel(), val_tails[0]))[np.newaxis,:]\n",
    "    vals[1] = np.concatenate((v1_target.values.ravel(), val_tails[1]))[np.newaxis, np.newaxis,:]\n",
    "    vals[2] = np.mean(vals[2],axis=0)\n",
    "    vals[3] = np.concatenate((v3_target.values.ravel(), val_tails[2]))[np.newaxis,:]\n",
    "    vals[4] = np.mean(vals[4],axis=0)\n",
    "    vals[5] = np.concatenate((v5_target.values.ravel().astype(bool), val_tails[3]))[np.newaxis,:]\n",
    "    return vals\n",
    "    \n",
    "def set_gridded_solutions_to_regular_grid(model, combined_solution, target_grid, solutions):\n",
    "    vals = do_combine_grids(target_grid, solutions)\n",
    "    combined_solution.set_solution_to_regular_grid(vals, compute_mesh=True)\n",
    "    model.solutions = combined_solution\n",
    "    model.grid = target_grid\n",
    "    return model\n",
    "    "
   ]
  },
  {
   "cell_type": "code",
   "execution_count": 84,
   "metadata": {},
   "outputs": [],
   "source": [
    "x = set_gridded_solutions_to_regular_grid(geo_data, combined_solution, combined_grid, solutions);"
   ]
  },
  {
   "cell_type": "code",
   "execution_count": 92,
   "metadata": {},
   "outputs": [
    {
     "data": {
      "text/plain": [
       "(500000,)"
      ]
     },
     "execution_count": 92,
     "metadata": {},
     "output_type": "execute_result"
    }
   ],
   "source": [
    "geo_data.solutions.lith_block.shape"
   ]
  },
  {
   "cell_type": "code",
   "execution_count": null,
   "metadata": {},
   "outputs": [],
   "source": []
  },
  {
   "cell_type": "code",
   "execution_count": null,
   "metadata": {},
   "outputs": [],
   "source": []
  },
  {
   "cell_type": "code",
   "execution_count": 185,
   "metadata": {},
   "outputs": [],
   "source": [
    "def combine_sols(combo_grid, solutions):\n",
    "    target_l0, target_l1 = combo_grid.get_grid_args('regular')\n",
    "    target_xi = combo_grid.length[-1]\n",
    "    vals = [[], [], None, [], None, []]\n",
    "    for i, (_, g, s) in enumerate(solutions):\n",
    "        l0, l1 = g.get_grid_args('regular')\n",
    "        x_l = g.length[-1]\n",
    "        # extract values we need\n",
    "        v0 = np.asarray(s[0][0, l0: l1])\n",
    "        v1 = np.asarray(s[1][0, 0, l0: l1])\n",
    "        v3 = np.asarray(s[3][0, l0: l1])\n",
    "        v5 = np.asarray(s[5][0, l0: l1])\n",
    "        # may need to reshape, strack then ravel\n",
    "        #print(type(vals[0]), type(v0))\n",
    "        #print(vals[0].shape, v0.shape)\n",
    "        vals[0] = np.concatenate((vals[0], v0)) \n",
    "        vals[1] = np.concatenate((vals[1], v1)) \n",
    "        vals[3] = np.concatenate((vals[3], v3)).ravel() \n",
    "        vals[5] = np.concatenate((vals[5], v5)).ravel()\n",
    "        # for the things we do at the end for the surface values\n",
    "        if i+1 == len(solutions):\n",
    "            vals[0] = np.concatenate((vals[0], s[0][:, x_l:].ravel()))\n",
    "            vals[1] = np.concatenate((vals[1], s[1][:,:, x_l:].ravel())) \n",
    "            vals[2] = s[2]\n",
    "            vals[3] = np.concatenate((vals[3], s[3][:, x_l:].ravel())) \n",
    "            vals[4] = s[4]\n",
    "            vals[5] = np.concatenate((vals[5], s[5][:, x_l:].ravel()))\n",
    "    vals[0] = vals[0].reshape((1, vals[0].shape[0]))\n",
    "    vals[1] = vals[1].reshape((1, 1, vals[1].shape[0]))\n",
    "    vals[3] = vals[3].reshape((1, vals[3].shape[0]))\n",
    "    vals[5] = vals[5].reshape((1, vals[5].shape[0]))\n",
    "    return vals\n",
    "          "
   ]
  },
  {
   "cell_type": "code",
   "execution_count": 186,
   "metadata": {},
   "outputs": [],
   "source": [
    "vals = combine_sols(combined_grid, solutions)"
   ]
  },
  {
   "cell_type": "code",
   "execution_count": 187,
   "metadata": {},
   "outputs": [
    {
     "data": {
      "text/plain": [
       "\n",
       "Lithology ids \n",
       "  [3. 3. 3. ... 1. 1. 1.] "
      ]
     },
     "execution_count": 187,
     "metadata": {},
     "output_type": "execute_result"
    }
   ],
   "source": [
    "combined_solution.set_solution_to_regular_grid(vals, compute_mesh=True)"
   ]
  },
  {
   "cell_type": "code",
   "execution_count": 188,
   "metadata": {},
   "outputs": [],
   "source": [
    "geo_data.solutions = combined_solution\n",
    "geo_data.grid = combined_grid"
   ]
  },
  {
   "cell_type": "markdown",
   "metadata": {},
   "source": [
    "Displaying the result in x and y direction:"
   ]
  },
  {
   "cell_type": "code",
   "execution_count": 189,
   "metadata": {
    "scrolled": false
   },
   "outputs": [
    {
     "data": {
      "text/plain": [
       "<gempy.plot.visualization_2d.PlotSolution at 0x1572a2908>"
      ]
     },
     "execution_count": 189,
     "metadata": {},
     "output_type": "execute_result"
    },
    {
     "data": {
      "image/png": "[encoded data removed]",
      "text/plain": [
       "<Figure size 432x432 with 1 Axes>"
      ]
     },
     "metadata": {
      "needs_background": "light"
     },
     "output_type": "display_data"
    }
   ],
   "source": [
    "%matplotlib inline\n",
    "gp.plot.plot_section(geo_data, cell_number=25,\n",
    "                         direction='x', show_all_data=True)"
   ]
  },
  {
   "cell_type": "code",
   "execution_count": 190,
   "metadata": {},
   "outputs": [
    {
     "data": {
      "text/plain": [
       "<gempy.plot.visualization_2d.PlotSolution at 0x13a942198>"
      ]
     },
     "execution_count": 190,
     "metadata": {},
     "output_type": "execute_result"
    },
    {
     "data": {
      "image/png": "[encoded data removed]",
      "text/plain": [
       "<Figure size 432x288 with 1 Axes>"
      ]
     },
     "metadata": {
      "needs_background": "light"
     },
     "output_type": "display_data"
    }
   ],
   "source": [
    "%matplotlib inline\n",
    "gp.plot.plot_section(geo_data, cell_number=25,\n",
    "                    direction='y', show_data=True)"
   ]
  },
  {
   "cell_type": "code",
   "execution_count": null,
   "metadata": {},
   "outputs": [],
   "source": []
  }
 ],
 "metadata": {
  "@webio": {
   "lastCommId": null,
   "lastKernelId": null
  },
  "kernelspec": {
   "display_name": "gempy3",
   "language": "python",
   "name": "gempy3"
  },
  "language_info": {
   "codemirror_mode": {
    "name": "ipython",
    "version": 3
   },
   "file_extension": ".py",
   "mimetype": "text/x-python",
   "name": "python",
   "nbconvert_exporter": "python",
   "pygments_lexer": "ipython3",
   "version": "3.7.3"
  }
 },
 "nbformat": 4,
 "nbformat_minor": 2
}
